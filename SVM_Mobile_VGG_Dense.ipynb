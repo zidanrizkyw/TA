{
  "nbformat": 4,
  "nbformat_minor": 0,
  "metadata": {
    "colab": {
      "provenance": [],
      "gpuType": "T4"
    },
    "kernelspec": {
      "name": "python3",
      "display_name": "Python 3"
    },
    "language_info": {
      "name": "python"
    },
    "accelerator": "GPU"
  },
  "cells": [
    {
      "cell_type": "code",
      "execution_count": null,
      "metadata": {
        "colab": {
          "base_uri": "https://localhost:8080/"
        },
        "id": "qQ91uLmbfO25",
        "outputId": "4887cfda-8c7c-4b6b-d46e-f8736d48bf72"
      },
      "outputs": [
        {
          "output_type": "stream",
          "name": "stdout",
          "text": [
            "Mounted at /content/drive\n"
          ]
        }
      ],
      "source": [
        "from google.colab import drive\n",
        "import zipfile\n",
        "import os\n",
        "\n",
        "drive.mount('/content/drive')\n",
        "with zipfile.ZipFile('/content/drive/MyDrive/Dataset_Bersih.zip', 'r') as zip_ref:\n",
        "    zip_ref.extractall('/content/')"
      ]
    },
    {
      "cell_type": "code",
      "source": [
        "import numpy as np\n",
        "import pandas as pd\n",
        "import tensorflow as tf\n",
        "from tensorflow.keras.preprocessing import image_dataset_from_directory\n",
        "\n",
        "# Path ke direktori dataset\n",
        "dataset_dir = '/content/Dataset Bersih'\n",
        "\n",
        "# Memuat dataset dengan shuffle diatur ke True\n",
        "full_dataset = image_dataset_from_directory(dataset_dir,\n",
        "                                            labels='inferred',\n",
        "                                            label_mode='int',\n",
        "                                            image_size=(224, 224),\n",
        "                                            batch_size=32,\n",
        "                                            shuffle=True)"
      ],
      "metadata": {
        "colab": {
          "base_uri": "https://localhost:8080/"
        },
        "id": "SP3dBjmRf7l2",
        "outputId": "1036067a-1f3b-4fe7-b8a1-a2fd41e63250"
      },
      "execution_count": null,
      "outputs": [
        {
          "output_type": "stream",
          "name": "stdout",
          "text": [
            "Found 1725 files belonging to 3 classes.\n"
          ]
        }
      ]
    },
    {
      "cell_type": "code",
      "source": [
        "import numpy as np\n",
        "import pandas as pd\n",
        "import tensorflow as tf\n",
        "from tensorflow.keras.applications import MobileNetV2, VGG16, DenseNet201\n",
        "from tensorflow.keras.applications.mobilenet_v2 import preprocess_input as preprocess_mobilenet\n",
        "from tensorflow.keras.applications.vgg16 import preprocess_input as preprocess_vgg\n",
        "from tensorflow.keras.applications.densenet import preprocess_input as preprocess_densenet\n",
        "from tensorflow.keras.preprocessing import image_dataset_from_directory\n",
        "from tensorflow.keras.models import Model\n",
        "\n",
        "\n",
        "# MobileNetV2\n",
        "mobilenet_model = MobileNetV2(weights='imagenet', include_top=False, input_shape=(224, 224, 3))\n",
        "mobilenet_model.trainable = True\n",
        "\n",
        "mobilenet_feature_model = tf.keras.Sequential([\n",
        "    mobilenet_model,\n",
        "    tf.keras.layers.GlobalAveragePooling2D()\n",
        "])\n",
        "\n",
        "# VGG16\n",
        "vgg_model = VGG16(weights='imagenet', include_top=False, input_shape=(224, 224, 3))\n",
        "vgg_model.trainable = True\n",
        "\n",
        "vgg_feature_model = tf.keras.Sequential([\n",
        "    vgg_model,\n",
        "    tf.keras.layers.GlobalAveragePooling2D()\n",
        "])\n",
        "\n",
        "# DenseNet121\n",
        "densenet_model = DenseNet201(weights='imagenet', include_top=False, input_shape=(224, 224, 3))\n",
        "densenet_model.trainable = True\n",
        "\n",
        "densenet_feature_model = tf.keras.Sequential([\n",
        "    densenet_model,\n",
        "    tf.keras.layers.GlobalAveragePooling2D()\n",
        "])\n"
      ],
      "metadata": {
        "colab": {
          "base_uri": "https://localhost:8080/"
        },
        "id": "L6xwuQrogtZf",
        "outputId": "b4c902b6-5b84-4d09-fdab-f0e34df383d1"
      },
      "execution_count": null,
      "outputs": [
        {
          "output_type": "stream",
          "name": "stdout",
          "text": [
            "Downloading data from https://storage.googleapis.com/tensorflow/keras-applications/mobilenet_v2/mobilenet_v2_weights_tf_dim_ordering_tf_kernels_1.0_224_no_top.h5\n",
            "9406464/9406464 [==============================] - 0s 0us/step\n",
            "Downloading data from https://storage.googleapis.com/tensorflow/keras-applications/vgg16/vgg16_weights_tf_dim_ordering_tf_kernels_notop.h5\n",
            "58889256/58889256 [==============================] - 0s 0us/step\n",
            "Downloading data from https://storage.googleapis.com/tensorflow/keras-applications/densenet/densenet201_weights_tf_dim_ordering_tf_kernels_notop.h5\n",
            "74836368/74836368 [==============================] - 0s 0us/step\n"
          ]
        }
      ]
    },
    {
      "cell_type": "code",
      "source": [
        "# Inisialisasi list untuk menyimpan fitur dan label\n",
        "mobilenet_features_list = []\n",
        "vgg_features_list = []\n",
        "densenet_features_list = []\n",
        "labels_list = []\n",
        "\n",
        "# Ekstrak fitur dari dataset menggunakan MobileNetV2, VGG16 dan Densenet\n",
        "for images, labels in full_dataset:\n",
        "    # Ekstraksi fitur menggunakan MobileNetV2\n",
        "    mobilenet_features = mobilenet_feature_model(images)\n",
        "    mobilenet_features_list.append(mobilenet_features.numpy())\n",
        "\n",
        "    # Ekstraksi fitur menggunakan VGG16\n",
        "    vgg_features = vgg_feature_model(images)\n",
        "    vgg_features_list.append(vgg_features.numpy())\n",
        "\n",
        "    # Ekstraksi fitur menggunakan Densenet\n",
        "    densenet_features = densenet_feature_model(images)\n",
        "    densenet_features_list.append(densenet_features.numpy())\n",
        "\n",
        "    labels_list.append(labels.numpy())\n",
        "\n",
        "# Menggabungkan fitur dan label menjadi numpy arrays\n",
        "mobilenet_features_array = np.concatenate(mobilenet_features_list)\n",
        "vgg_features_array = np.concatenate(vgg_features_list)\n",
        "densenet_features_array = np.concatenate(densenet_features_list)\n",
        "labels_array = np.concatenate(labels_list)\n",
        "\n",
        "# Membuat DataFrame dari fitur dan label untuk MobileNetV2\n",
        "mobilenet_feature_columns = [f\"mobilenet_feature_{i+1}\" for i in range(mobilenet_features_array.shape[1])]\n",
        "mobilenet_df = pd.DataFrame(mobilenet_features_array, columns=mobilenet_feature_columns)\n",
        "mobilenet_df['label'] = labels_array\n",
        "\n",
        "# Membuat DataFrame dari fitur dan label untuk VGG16\n",
        "vgg_feature_columns = [f\"vgg_feature_{i+1}\" for i in range(vgg_features_array.shape[1])]\n",
        "vgg_df = pd.DataFrame(vgg_features_array, columns=vgg_feature_columns)\n",
        "vgg_df['label'] = labels_array\n",
        "\n",
        "# Membuat DataFrame dari fitur dan label untuk Densenet\n",
        "densenet_feature_columns = [f\"densenet_feature_{i+1}\" for i in range(densenet_features_array.shape[1])]\n",
        "densenet_df = pd.DataFrame(densenet_features_array, columns=densenet_feature_columns)\n",
        "densenet_df['label'] = labels_array\n",
        "\n"
      ],
      "metadata": {
        "id": "pXx4uxz1liaR"
      },
      "execution_count": null,
      "outputs": []
    },
    {
      "cell_type": "code",
      "source": [
        "# Tampilkan DataFrame untuk MobileNetV2\n",
        "print(\"DataFrame untuk MobileNetV2:\")\n",
        "print(mobilenet_df.head(5))"
      ],
      "metadata": {
        "colab": {
          "base_uri": "https://localhost:8080/"
        },
        "id": "rNiaybHJiMFQ",
        "outputId": "1fe3790b-cea3-49bd-bfb6-ab6313e9c97b"
      },
      "execution_count": null,
      "outputs": [
        {
          "output_type": "stream",
          "name": "stdout",
          "text": [
            "DataFrame untuk MobileNetV2:\n",
            "   mobilenet_feature_1  mobilenet_feature_2  mobilenet_feature_3  \\\n",
            "0             0.000000             0.350490             0.000000   \n",
            "1             0.000000             0.134455             0.000000   \n",
            "2             0.000000             0.625615             0.000000   \n",
            "3             0.000000             0.000000             0.000000   \n",
            "4             0.232998             0.690357             0.008203   \n",
            "\n",
            "   mobilenet_feature_4  mobilenet_feature_5  mobilenet_feature_6  \\\n",
            "0             0.000630                  0.0             0.039118   \n",
            "1             0.031821                  0.0             0.018830   \n",
            "2             0.000641                  0.0             0.044464   \n",
            "3             0.000000                  0.0             0.000000   \n",
            "4             0.000000                  0.0             0.157563   \n",
            "\n",
            "   mobilenet_feature_7  mobilenet_feature_8  mobilenet_feature_9  \\\n",
            "0             0.264480                  0.0             0.060818   \n",
            "1             1.729958                  0.0             0.000000   \n",
            "2             0.297940                  0.0             0.001668   \n",
            "3             2.172058                  0.0             0.000000   \n",
            "4             0.129823                  0.0             0.105595   \n",
            "\n",
            "   mobilenet_feature_10  ...  mobilenet_feature_1272  mobilenet_feature_1273  \\\n",
            "0              1.221791  ...                0.000000                0.774157   \n",
            "1              2.884427  ...                0.000000                0.612580   \n",
            "2              0.879342  ...                0.011818                0.791833   \n",
            "3              4.630098  ...                0.000000                0.599588   \n",
            "4              0.800801  ...                0.000000                0.649745   \n",
            "\n",
            "   mobilenet_feature_1274  mobilenet_feature_1275  mobilenet_feature_1276  \\\n",
            "0                     0.0                1.068725                0.000000   \n",
            "1                     0.0                1.882662                0.000000   \n",
            "2                     0.0                3.224971                0.000000   \n",
            "3                     0.0                1.371795                0.000000   \n",
            "4                     0.0                1.771823                0.033558   \n",
            "\n",
            "   mobilenet_feature_1277  mobilenet_feature_1278  mobilenet_feature_1279  \\\n",
            "0                0.000000                0.000000                0.015887   \n",
            "1                0.036240                0.000000                0.000000   \n",
            "2                0.014939                0.004901                0.035801   \n",
            "3                0.000000                0.167044                0.000000   \n",
            "4                0.013489                0.000000                1.039459   \n",
            "\n",
            "   mobilenet_feature_1280  label  \n",
            "0                0.047902      2  \n",
            "1                0.248482      1  \n",
            "2                0.276982      0  \n",
            "3                0.439139      0  \n",
            "4                0.220411      0  \n",
            "\n",
            "[5 rows x 1281 columns]\n"
          ]
        }
      ]
    },
    {
      "cell_type": "code",
      "source": [
        "# Tampilkan DataFrame untuk MobileNetV2\n",
        "print(\"DataFrame untuk VGG16:\")\n",
        "print(vgg_df.head(5))"
      ],
      "metadata": {
        "colab": {
          "base_uri": "https://localhost:8080/"
        },
        "id": "7A5f2vjLiP5p",
        "outputId": "94eccc43-fc73-4e1a-938c-da2697c04879"
      },
      "execution_count": null,
      "outputs": [
        {
          "output_type": "stream",
          "name": "stdout",
          "text": [
            "DataFrame untuk VGG16:\n",
            "   vgg_feature_1  vgg_feature_2  vgg_feature_3  vgg_feature_4  vgg_feature_5  \\\n",
            "0       0.000000       0.000000       0.000000       2.315905       0.029292   \n",
            "1       0.000000       0.000000       0.000000       0.000000       0.000000   \n",
            "2       0.259175       0.040857       0.246776       2.051791       3.268292   \n",
            "3       0.000000       0.000000       0.000000       0.000000       0.336652   \n",
            "4       0.000000       0.950779       2.346238       3.805458       2.768574   \n",
            "\n",
            "   vgg_feature_6  vgg_feature_7  vgg_feature_8  vgg_feature_9  vgg_feature_10  \\\n",
            "0       0.034497       0.000000       0.954500            0.0        0.000000   \n",
            "1       0.000000       1.315220       0.054372            0.0        0.000000   \n",
            "2       0.000000       0.000000       2.918249            0.0        0.033795   \n",
            "3       0.000000       1.231063       0.000000            0.0        0.000000   \n",
            "4       0.234292       0.114589       3.978576            0.0        0.026842   \n",
            "\n",
            "   ...  vgg_feature_504  vgg_feature_505  vgg_feature_506  vgg_feature_507  \\\n",
            "0  ...          0.00000         0.000000         0.088864         7.944204   \n",
            "1  ...          0.00000         0.025180         0.025550         5.951358   \n",
            "2  ...          0.21985         2.621415         0.138253         3.780080   \n",
            "3  ...          0.00000         1.661226         0.419090         3.273303   \n",
            "4  ...          0.02697         0.088509         0.468812         6.938263   \n",
            "\n",
            "   vgg_feature_508  vgg_feature_509  vgg_feature_510  vgg_feature_511  \\\n",
            "0          1.05306         0.070390         0.000000         4.794937   \n",
            "1          0.00000         0.000000         0.000000         1.355645   \n",
            "2          1.51229         0.000000         0.000000         4.853372   \n",
            "3          0.00000         0.000000         0.000000         1.067072   \n",
            "4          1.69129         0.313091         0.055931         4.543575   \n",
            "\n",
            "   vgg_feature_512  label  \n",
            "0              0.0      2  \n",
            "1              0.0      1  \n",
            "2              0.0      0  \n",
            "3              0.0      0  \n",
            "4              0.0      0  \n",
            "\n",
            "[5 rows x 513 columns]\n"
          ]
        }
      ]
    },
    {
      "cell_type": "code",
      "source": [
        "# Tampilkan DataFrame untuk MobileNetV2\n",
        "print(\"DataFrame untuk Densenet:\")\n",
        "print(densenet_df.head(5))"
      ],
      "metadata": {
        "colab": {
          "base_uri": "https://localhost:8080/"
        },
        "id": "WjFg1lhOkNSB",
        "outputId": "4d1dbd82-6e26-4069-fc73-60af2ca55e08"
      },
      "execution_count": null,
      "outputs": [
        {
          "output_type": "stream",
          "name": "stdout",
          "text": [
            "DataFrame untuk Densenet:\n",
            "   densenet_feature_1  densenet_feature_2  densenet_feature_3  \\\n",
            "0            0.000010                 0.0            0.004476   \n",
            "1            0.000000                 0.0            0.007572   \n",
            "2            0.000000                 0.0            0.004870   \n",
            "3            0.000001                 0.0            0.004863   \n",
            "4            0.000030                 0.0            0.005182   \n",
            "\n",
            "   densenet_feature_4  densenet_feature_5  densenet_feature_6  \\\n",
            "0                 0.0            0.000618            0.000000   \n",
            "1                 0.0            0.001642            0.000008   \n",
            "2                 0.0            0.001507            0.000036   \n",
            "3                 0.0            0.000363            0.000000   \n",
            "4                 0.0            0.001772            0.000052   \n",
            "\n",
            "   densenet_feature_7  densenet_feature_8  densenet_feature_9  \\\n",
            "0            0.000829            0.000681            0.000000   \n",
            "1            0.001645            0.001648            0.000042   \n",
            "2            0.001330            0.002963            0.000007   \n",
            "3            0.000461            0.001744            0.000031   \n",
            "4            0.000646            0.004451            0.000053   \n",
            "\n",
            "   densenet_feature_10  ...  densenet_feature_1912  densenet_feature_1913  \\\n",
            "0             0.004643  ...               0.000000               0.080410   \n",
            "1             0.000000  ...               0.001600               0.444176   \n",
            "2             0.025142  ...               0.000000               0.469234   \n",
            "3             0.000000  ...               0.000000               0.975829   \n",
            "4             0.048434  ...               0.000712               0.026110   \n",
            "\n",
            "   densenet_feature_1914  densenet_feature_1915  densenet_feature_1916  \\\n",
            "0               0.214298               0.474779               2.283608   \n",
            "1               0.691286               0.599069               2.184049   \n",
            "2               1.280971               0.082211               1.085941   \n",
            "3               7.069083               0.000294               1.009473   \n",
            "4               2.283852               0.001098               0.249383   \n",
            "\n",
            "   densenet_feature_1917  densenet_feature_1918  densenet_feature_1919  \\\n",
            "0               0.053669               0.044045               0.340742   \n",
            "1               0.490954               0.071793               0.958439   \n",
            "2               0.290488               0.039177               0.534610   \n",
            "3               0.130339               0.002305               0.469931   \n",
            "4               0.033155               0.000000               0.122807   \n",
            "\n",
            "   densenet_feature_1920  label  \n",
            "0               0.002129      2  \n",
            "1               0.000000      1  \n",
            "2               0.051486      0  \n",
            "3               0.853079      0  \n",
            "4               0.365054      0  \n",
            "\n",
            "[5 rows x 1921 columns]\n"
          ]
        }
      ]
    },
    {
      "cell_type": "code",
      "source": [
        "# Menggabungkan fitur dari ketiga model\n",
        "combined_features_array = np.concatenate([mobilenet_features_array, vgg_features_array, densenet_features_array], axis=1)\n",
        "\n",
        "# Membuat DataFrame dari fitur gabungan dan label\n",
        "combined_feature_columns = [f\"feature_{i+1}\" for i in range(combined_features_array.shape[1])]\n",
        "combined_df = pd.DataFrame(combined_features_array, columns=combined_feature_columns)\n",
        "combined_df['label'] = labels_array\n",
        "\n",
        "def map_label(label):\n",
        "    class_names = ['mel', 'bcc', 'norm']\n",
        "    return class_names[label]\n",
        "\n",
        "# Applying map_label function to convert labels to class names\n",
        "combined_df['label'] = combined_df['label'].apply(map_label)\n",
        "\n",
        "# Displaying DataFrame with better format\n",
        "pd.set_option('display.max_columns', 10)  # Show all columns\n",
        "pd.set_option('display.max_rows', 10)  # Limit the number of rows displayed\n",
        "pd.set_option('display.float_format', lambda x: '%.4f' % x)  # Format float numbers\n",
        "\n",
        "# Tampilkan DataFrame gabungan\n",
        "print(\"DataFrame gabungan untuk MobileNetV2 dan vgg50V2:\")\n",
        "\n",
        "# Showing the first few rows of the DataFrame\n",
        "print(combined_df.head())\n"
      ],
      "metadata": {
        "colab": {
          "base_uri": "https://localhost:8080/"
        },
        "id": "FAd_c2jpo8L1",
        "outputId": "549e3d83-601a-4676-9efa-55cc6f8dee4f"
      },
      "execution_count": null,
      "outputs": [
        {
          "output_type": "stream",
          "name": "stdout",
          "text": [
            "DataFrame gabungan untuk MobileNetV2 dan vgg50V2:\n",
            "   feature_1  feature_2  feature_3  feature_4  feature_5  ...  feature_3709  \\\n",
            "0     0.0000     0.3505     0.0000     0.0006     0.0000  ...        0.0537   \n",
            "1     0.0000     0.1345     0.0000     0.0318     0.0000  ...        0.4910   \n",
            "2     0.0000     0.6256     0.0000     0.0006     0.0000  ...        0.2905   \n",
            "3     0.0000     0.0000     0.0000     0.0000     0.0000  ...        0.1303   \n",
            "4     0.2330     0.6904     0.0082     0.0000     0.0000  ...        0.0332   \n",
            "\n",
            "   feature_3710  feature_3711  feature_3712  label  \n",
            "0        0.0440        0.3407        0.0021   norm  \n",
            "1        0.0718        0.9584        0.0000    bcc  \n",
            "2        0.0392        0.5346        0.0515    mel  \n",
            "3        0.0023        0.4699        0.8531    mel  \n",
            "4        0.0000        0.1228        0.3651    mel  \n",
            "\n",
            "[5 rows x 3713 columns]\n"
          ]
        }
      ]
    },
    {
      "cell_type": "code",
      "source": [
        "import numpy as np\n",
        "import pandas as pd\n",
        "from sklearn.model_selection import train_test_split, KFold, cross_val_score\n",
        "from sklearn.svm import SVC\n",
        "from sklearn.metrics import confusion_matrix, classification_report\n",
        "import joblib  # untuk menyimpan model\n",
        "from sklearn.metrics import confusion_matrix, classification_report\n",
        "from sklearn.metrics import accuracy_score, precision_score, recall_score, f1_score, confusion_matrix, classification_report\n",
        "from sklearn.model_selection import StratifiedKFold\n",
        "\n",
        "k = 5  # Number of folds\n",
        "skf = StratifiedKFold(n_splits=k, shuffle=True, random_state=42)\n",
        "accuracies = []\n",
        "precisions = []\n",
        "sensitivities = []\n",
        "specificities = []\n",
        "f1_scores = []\n",
        "best_accuracy = 0\n",
        "best_model = None\n",
        "best_confusion_matrix = None\n",
        "best_classification_report = None\n",
        "\n",
        "for fold, (train_index, test_index) in enumerate(skf.split(combined_features_array, labels_array)):\n",
        "    train_features, test_features = combined_features_array[train_index], combined_features_array[test_index]\n",
        "    train_labels, test_labels = labels_array[train_index], labels_array[test_index]\n",
        "\n",
        "    svm = SVC()\n",
        "    svm.fit(train_features, train_labels)\n",
        "\n",
        "    predictions = svm.predict(test_features)\n",
        "    accuracy = accuracy_score(test_labels, predictions)\n",
        "    accuracies.append(accuracy)\n",
        "\n",
        "    precision = precision_score(test_labels, predictions, average='weighted')\n",
        "    precisions.append(precision)\n",
        "\n",
        "    recall = recall_score(test_labels, predictions, average='weighted')\n",
        "    sensitivities.append(recall)\n",
        "\n",
        "    cm = confusion_matrix(test_labels, predictions)\n",
        "    specificity = np.diag(cm) / np.sum(cm, axis=1)\n",
        "    specificity = np.mean(specificity)\n",
        "    specificities.append(specificity)\n",
        "\n",
        "    f1 = f1_score(test_labels, predictions, average='weighted')\n",
        "    f1_scores.append(f1)\n",
        "\n",
        "    print(f'Fold {fold + 1}, Accuracy: {accuracy:.4f}, Precision: {precision:.4f}, Sensitivity: {recall:.4f}, Specificity: {specificity:.4f}, F1-score: {f1:.4f}')\n",
        "\n",
        "    if accuracy > best_accuracy:\n",
        "        best_accuracy = accuracy\n",
        "        best_model = svm\n",
        "        best_confusion_matrix = cm\n",
        "        best_classification_report = classification_report(test_labels, predictions)\n",
        "        joblib.dump(best_model, 'best_svm_model.pkl')\n",
        "\n",
        "average_accuracy = np.mean(accuracies)\n",
        "average_precision = np.mean(precisions)\n",
        "average_sensitivity = np.mean(sensitivities)\n",
        "average_specificity = np.mean(specificities)\n",
        "average_f1 = np.mean(f1_scores)\n",
        "\n",
        "print(f'Average accuracy: {average_accuracy:.4f}, Best accuracy: {best_accuracy:.4f}')\n",
        "print(\"Best Confusion Matrix:\")\n",
        "print(best_confusion_matrix)\n",
        "print(\"Best Classification Report:\")\n",
        "print(best_classification_report)\n",
        "\n",
        "print(f'Average Precision: {average_precision:.4f}')\n",
        "print(f'Average Sensitivity: {average_sensitivity:.4f}')\n",
        "print(f'Average Specificity: {average_specificity:.4f}')\n",
        "print(f'Average F1-score: {average_f1:.4f}')"
      ],
      "metadata": {
        "colab": {
          "base_uri": "https://localhost:8080/"
        },
        "id": "o8B0aB1Cp6uY",
        "outputId": "d76183f6-693c-47ba-d325-2f8595e0163f"
      },
      "execution_count": null,
      "outputs": [
        {
          "output_type": "stream",
          "name": "stdout",
          "text": [
            "Fold 1, Accuracy: 0.8783, Precision: 0.8824, Sensitivity: 0.8783, Specificity: 0.8783, F1-score: 0.8785\n",
            "Fold 2, Accuracy: 0.8551, Precision: 0.8651, Sensitivity: 0.8551, Specificity: 0.8551, F1-score: 0.8566\n",
            "Fold 3, Accuracy: 0.8638, Precision: 0.8659, Sensitivity: 0.8638, Specificity: 0.8638, F1-score: 0.8644\n",
            "Fold 4, Accuracy: 0.8696, Precision: 0.8722, Sensitivity: 0.8696, Specificity: 0.8696, F1-score: 0.8701\n",
            "Fold 5, Accuracy: 0.8203, Precision: 0.8276, Sensitivity: 0.8203, Specificity: 0.8203, F1-score: 0.8219\n",
            "Average accuracy: 0.8574, Best accuracy: 0.8783\n",
            "Best Confusion Matrix:\n",
            "[[105   7   3]\n",
            " [  8 103   4]\n",
            " [ 15   5  95]]\n",
            "Best Classification Report:\n",
            "              precision    recall  f1-score   support\n",
            "\n",
            "           0       0.82      0.91      0.86       115\n",
            "           1       0.90      0.90      0.90       115\n",
            "           2       0.93      0.83      0.88       115\n",
            "\n",
            "    accuracy                           0.88       345\n",
            "   macro avg       0.88      0.88      0.88       345\n",
            "weighted avg       0.88      0.88      0.88       345\n",
            "\n",
            "Average Precision: 0.8626\n",
            "Average Sensitivity: 0.8574\n",
            "Average Specificity: 0.8574\n",
            "Average F1-score: 0.8583\n"
          ]
        }
      ]
    },
    {
      "cell_type": "code",
      "source": [
        "import seaborn as sns\n",
        "import matplotlib.pyplot as plt\n",
        "\n",
        "# Plotting Confusion Matrix\n",
        "# plt.figure(figsize=(10, 8))\n",
        "# sns.heatmap(best_confusion_matrix, annot=True, fmt='d', cmap='Blues', cbar=False)\n",
        "# plt.title('Confusion Matrix')\n",
        "# plt.xlabel('Predicted Label')\n",
        "# plt.ylabel('True Label')\n",
        "# plt.show()\n",
        "\n",
        "# Menampilkan Confusion Matrix dengan label yang tepat\n",
        "plt.figure(figsize=(10, 8))\n",
        "sns.heatmap(best_confusion_matrix, annot=True, fmt='d', cmap='Blues', cbar=False)\n",
        "\n",
        "# Mendapatkan nama kelas dari variabel class_names\n",
        "class_names = ['mel', 'bcc', 'norm']\n",
        "\n",
        "# Menambahkan label ke sumbu x dan y\n",
        "plt.xticks(ticks=np.arange(len(class_names))+0.5, labels=class_names, ha='center')\n",
        "plt.yticks(ticks=np.arange(len(class_names))+0.5, labels=class_names, va='center')\n",
        "\n",
        "plt.title('Confusion Matrix')\n",
        "plt.xlabel('Predicted Label')\n",
        "plt.ylabel('True Label')\n",
        "plt.show()\n",
        "\n"
      ],
      "metadata": {
        "colab": {
          "base_uri": "https://localhost:8080/",
          "height": 718
        },
        "id": "aKyozMhcipoj",
        "outputId": "011989e9-2e35-48aa-a236-8dc527d45c20"
      },
      "execution_count": null,
      "outputs": [
        {
          "output_type": "display_data",
          "data": {
            "text/plain": [
              "<Figure size 1000x800 with 1 Axes>"
            ],
            "image/png": "[encoded data removed]"
          },
          "metadata": {}
        }
      ]
    },
    {
      "cell_type": "code",
      "source": [
        "from sklearn.model_selection import GridSearchCV\n",
        "from sklearn.metrics import accuracy_score, classification_report, confusion_matrix\n",
        "import joblib\n",
        "\n",
        "# Memuat model SVM terbaik yang sudah disimpan sebelumnya\n",
        "best_svm = joblib.load('best_svm_model.pkl')\n",
        "\n",
        "# Parameter yang akan diuji\n",
        "param_grid = {\n",
        "    'C': [0.1, 1, 10, 100],\n",
        "    'gamma': ['scale', 'auto', 0.1, 1, 10],\n",
        "    'kernel': ['linear', 'poly', 'rbf', 'sigmoid']\n",
        "}\n",
        "\n",
        "# Membuat objek GridSearchCV\n",
        "grid_search = GridSearchCV(estimator=best_svm, param_grid=param_grid, cv=5, scoring='accuracy')\n",
        "\n",
        "# Melakukan grid search\n",
        "grid_search.fit(train_features, train_labels)\n",
        "\n",
        "# Menampilkan parameter terbaik\n",
        "print(\"Parameter terbaik:\", grid_search.best_params_)"
      ],
      "metadata": {
        "colab": {
          "base_uri": "https://localhost:8080/"
        },
        "id": "5ozjMVwwqSY4",
        "outputId": "9262c915-bbf0-4b92-e15f-f21d75751598"
      },
      "execution_count": null,
      "outputs": [
        {
          "output_type": "stream",
          "name": "stdout",
          "text": [
            "Parameter terbaik: {'C': 10, 'gamma': 'scale', 'kernel': 'rbf'}\n"
          ]
        }
      ]
    },
    {
      "cell_type": "code",
      "source": [
        "import numpy as np\n",
        "import pandas as pd\n",
        "from sklearn.model_selection import train_test_split, KFold, GridSearchCV\n",
        "from sklearn.svm import SVC\n",
        "from sklearn.metrics import confusion_matrix, classification_report, accuracy_score\n",
        "import joblib\n",
        "\n",
        "# Best parameters obtained from GridSearchCV\n",
        "best_params = {'C': 10, 'gamma': 'scale', 'kernel': 'rbf'}\n",
        "\n",
        "k = 5  # Number of folds\n",
        "skf = StratifiedKFold(n_splits=k, shuffle=True, random_state=42)\n",
        "accuracies = []\n",
        "precisions = []\n",
        "sensitivities = []\n",
        "specificities = []\n",
        "f1_scores = []\n",
        "best_accuracy = 0\n",
        "best_model = None\n",
        "best_confusion_matrix = None\n",
        "best_classification_report = None\n",
        "\n",
        "for fold, (train_index, test_index) in enumerate(skf.split(combined_features_array, labels_array)):\n",
        "    train_features, test_features = combined_features_array[train_index], combined_features_array[test_index]\n",
        "    train_labels, test_labels = labels_array[train_index], labels_array[test_index]\n",
        "\n",
        "    svm = SVC(**best_params)\n",
        "    svm.fit(train_features, train_labels)\n",
        "\n",
        "    predictions = svm.predict(test_features)\n",
        "    accuracy = accuracy_score(test_labels, predictions)\n",
        "    accuracies.append(accuracy)\n",
        "\n",
        "    precision = precision_score(test_labels, predictions, average='weighted')\n",
        "    precisions.append(precision)\n",
        "\n",
        "    recall = recall_score(test_labels, predictions, average='weighted')\n",
        "    sensitivities.append(recall)\n",
        "\n",
        "    cm = confusion_matrix(test_labels, predictions)\n",
        "    specificity = np.diag(cm) / np.sum(cm, axis=1)\n",
        "    specificity = np.mean(specificity)\n",
        "    specificities.append(specificity)\n",
        "\n",
        "    f1 = f1_score(test_labels, predictions, average='weighted')\n",
        "    f1_scores.append(f1)\n",
        "\n",
        "    print(f'Fold {fold + 1}, Accuracy: {accuracy:.4f}, Precision: {precision:.4f}, Sensitivity: {recall:.4f}, Specificity: {specificity:.4f}, F1-score: {f1:.4f}')\n",
        "\n",
        "    if accuracy > best_accuracy:\n",
        "        best_accuracy = accuracy\n",
        "        best_model = svm\n",
        "        best_confusion_matrix = cm\n",
        "        best_classification_report = classification_report(test_labels, predictions)\n",
        "        joblib.dump(best_model, 'best_svm_model_tuning.pkl')\n",
        "\n",
        "average_accuracy = np.mean(accuracies)\n",
        "average_precision = np.mean(precisions)\n",
        "average_sensitivity = np.mean(sensitivities)\n",
        "average_specificity = np.mean(specificities)\n",
        "average_f1 = np.mean(f1_scores)\n",
        "\n",
        "print(f'Average accuracy: {average_accuracy:.4f}, Best accuracy: {best_accuracy:.4f}')\n",
        "print(\"Best Confusion Matrix:\")\n",
        "print(best_confusion_matrix)\n",
        "print(\"Best Classification Report:\")\n",
        "print(best_classification_report)\n",
        "\n",
        "print(f'Average Precision: {average_precision:.4f}')\n",
        "print(f'Average Sensitivity: {average_sensitivity:.4f}')\n",
        "print(f'Average Specificity: {average_specificity:.4f}')\n",
        "print(f'Average F1-score: {average_f1:.4f}')"
      ],
      "metadata": {
        "colab": {
          "base_uri": "https://localhost:8080/"
        },
        "id": "FTtJdCUi0UkL",
        "outputId": "33b45bf7-b0d3-4998-b5c9-6311f95f972f"
      },
      "execution_count": null,
      "outputs": [
        {
          "output_type": "stream",
          "name": "stdout",
          "text": [
            "Fold 1, Accuracy: 0.9101, Precision: 0.9116, Sensitivity: 0.9101, Specificity: 0.9101, F1-score: 0.9103\n",
            "Fold 2, Accuracy: 0.8957, Precision: 0.8977, Sensitivity: 0.8957, Specificity: 0.8957, F1-score: 0.8962\n",
            "Fold 3, Accuracy: 0.9246, Precision: 0.9248, Sensitivity: 0.9246, Specificity: 0.9246, F1-score: 0.9247\n",
            "Fold 4, Accuracy: 0.9188, Precision: 0.9205, Sensitivity: 0.9188, Specificity: 0.9188, F1-score: 0.9189\n",
            "Fold 5, Accuracy: 0.8899, Precision: 0.8912, Sensitivity: 0.8899, Specificity: 0.8899, F1-score: 0.8895\n",
            "Average accuracy: 0.9078, Best accuracy: 0.9246\n",
            "Best Confusion Matrix:\n",
            "[[108   6   1]\n",
            " [  6 104   5]\n",
            " [  3   5 107]]\n",
            "Best Classification Report:\n",
            "              precision    recall  f1-score   support\n",
            "\n",
            "           0       0.92      0.94      0.93       115\n",
            "           1       0.90      0.90      0.90       115\n",
            "           2       0.95      0.93      0.94       115\n",
            "\n",
            "    accuracy                           0.92       345\n",
            "   macro avg       0.92      0.92      0.92       345\n",
            "weighted avg       0.92      0.92      0.92       345\n",
            "\n",
            "Average Precision: 0.9091\n",
            "Average Sensitivity: 0.9078\n",
            "Average Specificity: 0.9078\n",
            "Average F1-score: 0.9079\n"
          ]
        }
      ]
    },
    {
      "cell_type": "code",
      "source": [
        "# Menampilkan Confusion Matrix dengan label yang tepat\n",
        "plt.figure(figsize=(10, 8))\n",
        "sns.heatmap(best_confusion_matrix, annot=True, fmt='d', cmap='Blues', cbar=False)\n",
        "\n",
        "# Mendapatkan nama kelas dari variabel class_names\n",
        "class_names = ['mel', 'bcc', 'norm']\n",
        "\n",
        "# Menambahkan label ke sumbu x dan y\n",
        "plt.xticks(ticks=np.arange(len(class_names))+0.5, labels=class_names, ha='center')\n",
        "plt.yticks(ticks=np.arange(len(class_names))+0.5, labels=class_names, va='center')\n",
        "\n",
        "plt.title('Confusion Matrix')\n",
        "plt.xlabel('Predicted Label')\n",
        "plt.ylabel('True Label')\n",
        "plt.show()"
      ],
      "metadata": {
        "colab": {
          "base_uri": "https://localhost:8080/"
        },
        "id": "_TfVCseANB0T",
        "outputId": "194df573-b2c3-47cd-f8a5-9bbe0f254e60"
      },
      "execution_count": null,
      "outputs": [
        {
          "output_type": "display_data",
          "data": {
            "text/plain": [
              "<Figure size 1000x800 with 1 Axes>"
            ],
            "image/png": "[encoded data removed]"
          },
          "metadata": {}
        }
      ]
    }
  ]
}