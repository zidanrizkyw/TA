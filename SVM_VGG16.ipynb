{
  "nbformat": 4,
  "nbformat_minor": 0,
  "metadata": {
    "colab": {
      "provenance": []
    },
    "kernelspec": {
      "name": "python3",
      "display_name": "Python 3"
    },
    "language_info": {
      "name": "python"
    }
  },
  "cells": [
    {
      "cell_type": "code",
      "execution_count": null,
      "metadata": {
        "id": "j53dy8bpeso7",
        "colab": {
          "base_uri": "https://localhost:8080/"
        },
        "outputId": "05a6f112-127b-4028-ea41-f73b35458c42"
      },
      "outputs": [
        {
          "output_type": "stream",
          "name": "stdout",
          "text": [
            "Mounted at /content/drive\n"
          ]
        }
      ],
      "source": [
        "from google.colab import drive\n",
        "import zipfile\n",
        "import os\n",
        "\n",
        "drive.mount('/content/drive')\n",
        "with zipfile.ZipFile('/content/drive/MyDrive/Dataset_Bersih.zip', 'r') as zip_ref:\n",
        "    zip_ref.extractall('/content/')"
      ]
    },
    {
      "cell_type": "code",
      "source": [
        "import tensorflow as tf\n",
        "from tensorflow.keras.preprocessing import image_dataset_from_directory\n",
        "from tensorflow.keras.applications import MobileNetV2\n",
        "from tensorflow.keras.applications.mobilenet_v2 import preprocess_input\n",
        "from sklearn.svm import SVC\n",
        "from sklearn.model_selection import StratifiedKFold\n",
        "from sklearn.metrics import accuracy_score\n",
        "import numpy as np\n",
        "import joblib\n",
        "\n",
        "# Path ke direktori dataset\n",
        "dataset_dir = '/content/Dataset Bersih'\n",
        "\n",
        "# Memuat dataset\n",
        "full_dataset = image_dataset_from_directory(dataset_dir,\n",
        "                                            labels='inferred',\n",
        "                                            label_mode='int',\n",
        "                                            class_names=['mel', 'bcc', 'norm'],\n",
        "                                            image_size=(224, 224),\n",
        "                                            batch_size=32,\n",
        "                                            shuffle=True)\n"
      ],
      "metadata": {
        "colab": {
          "base_uri": "https://localhost:8080/"
        },
        "id": "ygFS6DbTiw14",
        "outputId": "325f0286-43b8-4409-8d93-06410fb8c496"
      },
      "execution_count": null,
      "outputs": [
        {
          "output_type": "stream",
          "name": "stdout",
          "text": [
            "Found 1725 files belonging to 3 classes.\n"
          ]
        }
      ]
    },
    {
      "cell_type": "code",
      "source": [
        "from tensorflow.keras.applications.vgg16 import VGG16\n",
        "\n",
        "base_model = VGG16(weights='imagenet', include_top=False, input_shape=(224, 224, 3))\n",
        "base_model.trainable = True\n",
        "\n",
        "# Menambahkan GlobalAveragePooling2D layer untuk mendapatkan vektor fitur\n",
        "model = tf.keras.Sequential([\n",
        "    base_model,\n",
        "    tf.keras.layers.GlobalAveragePooling2D()\n",
        "])\n",
        "\n",
        "model.summary()\n",
        "\n",
        "def extract_features(dataset):\n",
        "    features = []\n",
        "    labels = []\n",
        "    for images, lbls in dataset:\n",
        "        preprocessed_images = preprocess_input(images)\n",
        "        feats = model.predict(preprocessed_images)\n",
        "        features.append(feats)\n",
        "        labels.append(lbls.numpy())\n",
        "    return np.concatenate(features), np.concatenate(labels)\n",
        "\n",
        "full_features, full_labels = extract_features(full_dataset)\n"
      ],
      "metadata": {
        "colab": {
          "base_uri": "https://localhost:8080/"
        },
        "id": "oVfu78pDi2hJ",
        "outputId": "c8ad0fc5-d4e4-40f2-9afe-6eba945fc1c4"
      },
      "execution_count": null,
      "outputs": [
        {
          "output_type": "stream",
          "name": "stdout",
          "text": [
            "Downloading data from https://storage.googleapis.com/tensorflow/keras-applications/vgg16/vgg16_weights_tf_dim_ordering_tf_kernels_notop.h5\n",
            "58889256/58889256 [==============================] - 0s 0us/step\n",
            "Model: \"sequential\"\n",
            "_________________________________________________________________\n",
            " Layer (type)                Output Shape              Param #   \n",
            "=================================================================\n",
            " vgg16 (Functional)          (None, 7, 7, 512)         14714688  \n",
            "                                                                 \n",
            " global_average_pooling2d (  (None, 512)               0         \n",
            " GlobalAveragePooling2D)                                         \n",
            "                                                                 \n",
            "=================================================================\n",
            "Total params: 14714688 (56.13 MB)\n",
            "Trainable params: 14714688 (56.13 MB)\n",
            "Non-trainable params: 0 (0.00 Byte)\n",
            "_________________________________________________________________\n",
            "1/1 [==============================] - 13s 13s/step\n",
            "1/1 [==============================] - 13s 13s/step\n",
            "1/1 [==============================] - 13s 13s/step\n",
            "1/1 [==============================] - 12s 12s/step\n",
            "1/1 [==============================] - 13s 13s/step\n",
            "1/1 [==============================] - 14s 14s/step\n",
            "1/1 [==============================] - 14s 14s/step\n",
            "1/1 [==============================] - 13s 13s/step\n",
            "1/1 [==============================] - 13s 13s/step\n",
            "1/1 [==============================] - 13s 13s/step\n",
            "1/1 [==============================] - 13s 13s/step\n",
            "1/1 [==============================] - 13s 13s/step\n",
            "1/1 [==============================] - 13s 13s/step\n",
            "1/1 [==============================] - 13s 13s/step\n",
            "1/1 [==============================] - 13s 13s/step\n",
            "1/1 [==============================] - 13s 13s/step\n",
            "1/1 [==============================] - 13s 13s/step\n",
            "1/1 [==============================] - 13s 13s/step\n",
            "1/1 [==============================] - 13s 13s/step\n",
            "1/1 [==============================] - 15s 15s/step\n",
            "1/1 [==============================] - 13s 13s/step\n",
            "1/1 [==============================] - 13s 13s/step\n",
            "1/1 [==============================] - 13s 13s/step\n",
            "1/1 [==============================] - 13s 13s/step\n",
            "1/1 [==============================] - 13s 13s/step\n",
            "1/1 [==============================] - 13s 13s/step\n",
            "1/1 [==============================] - 13s 13s/step\n",
            "1/1 [==============================] - 13s 13s/step\n",
            "1/1 [==============================] - 13s 13s/step\n",
            "1/1 [==============================] - 13s 13s/step\n",
            "1/1 [==============================] - 13s 13s/step\n",
            "1/1 [==============================] - 13s 13s/step\n",
            "1/1 [==============================] - 13s 13s/step\n",
            "1/1 [==============================] - 13s 13s/step\n",
            "1/1 [==============================] - 13s 13s/step\n",
            "1/1 [==============================] - 13s 13s/step\n",
            "1/1 [==============================] - 13s 13s/step\n",
            "1/1 [==============================] - 13s 13s/step\n",
            "1/1 [==============================] - 13s 13s/step\n",
            "1/1 [==============================] - 13s 13s/step\n",
            "1/1 [==============================] - 13s 13s/step\n",
            "1/1 [==============================] - 13s 13s/step\n",
            "1/1 [==============================] - 14s 14s/step\n",
            "1/1 [==============================] - 14s 14s/step\n",
            "1/1 [==============================] - 13s 13s/step\n",
            "1/1 [==============================] - 13s 13s/step\n",
            "1/1 [==============================] - 12s 12s/step\n",
            "1/1 [==============================] - 13s 13s/step\n",
            "1/1 [==============================] - 13s 13s/step\n",
            "1/1 [==============================] - 13s 13s/step\n",
            "1/1 [==============================] - 13s 13s/step\n",
            "1/1 [==============================] - 15s 15s/step\n",
            "1/1 [==============================] - 13s 13s/step\n",
            "1/1 [==============================] - 12s 12s/step\n"
          ]
        }
      ]
    },
    {
      "cell_type": "code",
      "source": [
        "base_model.summary()"
      ],
      "metadata": {
        "colab": {
          "base_uri": "https://localhost:8080/"
        },
        "id": "GKWHM2MhC-LU",
        "outputId": "e72ebe47-8b20-4cac-83ea-9333cbfb1e74"
      },
      "execution_count": null,
      "outputs": [
        {
          "output_type": "stream",
          "name": "stdout",
          "text": [
            "Model: \"vgg16\"\n",
            "_________________________________________________________________\n",
            " Layer (type)                Output Shape              Param #   \n",
            "=================================================================\n",
            " input_1 (InputLayer)        [(None, 224, 224, 3)]     0         \n",
            "                                                                 \n",
            " block1_conv1 (Conv2D)       (None, 224, 224, 64)      1792      \n",
            "                                                                 \n",
            " block1_conv2 (Conv2D)       (None, 224, 224, 64)      36928     \n",
            "                                                                 \n",
            " block1_pool (MaxPooling2D)  (None, 112, 112, 64)      0         \n",
            "                                                                 \n",
            " block2_conv1 (Conv2D)       (None, 112, 112, 128)     73856     \n",
            "                                                                 \n",
            " block2_conv2 (Conv2D)       (None, 112, 112, 128)     147584    \n",
            "                                                                 \n",
            " block2_pool (MaxPooling2D)  (None, 56, 56, 128)       0         \n",
            "                                                                 \n",
            " block3_conv1 (Conv2D)       (None, 56, 56, 256)       295168    \n",
            "                                                                 \n",
            " block3_conv2 (Conv2D)       (None, 56, 56, 256)       590080    \n",
            "                                                                 \n",
            " block3_conv3 (Conv2D)       (None, 56, 56, 256)       590080    \n",
            "                                                                 \n",
            " block3_pool (MaxPooling2D)  (None, 28, 28, 256)       0         \n",
            "                                                                 \n",
            " block4_conv1 (Conv2D)       (None, 28, 28, 512)       1180160   \n",
            "                                                                 \n",
            " block4_conv2 (Conv2D)       (None, 28, 28, 512)       2359808   \n",
            "                                                                 \n",
            " block4_conv3 (Conv2D)       (None, 28, 28, 512)       2359808   \n",
            "                                                                 \n",
            " block4_pool (MaxPooling2D)  (None, 14, 14, 512)       0         \n",
            "                                                                 \n",
            " block5_conv1 (Conv2D)       (None, 14, 14, 512)       2359808   \n",
            "                                                                 \n",
            " block5_conv2 (Conv2D)       (None, 14, 14, 512)       2359808   \n",
            "                                                                 \n",
            " block5_conv3 (Conv2D)       (None, 14, 14, 512)       2359808   \n",
            "                                                                 \n",
            " block5_pool (MaxPooling2D)  (None, 7, 7, 512)         0         \n",
            "                                                                 \n",
            "=================================================================\n",
            "Total params: 14714688 (56.13 MB)\n",
            "Trainable params: 14714688 (56.13 MB)\n",
            "Non-trainable params: 0 (0.00 Byte)\n",
            "_________________________________________________________________\n"
          ]
        }
      ]
    },
    {
      "cell_type": "code",
      "source": [
        "import pandas as pd  # Impor pandas\n",
        "# # Menampilkan hasil ekstraksi fitur menggunakan DataFrame\n",
        "# feature_names = [f\"feature_{i}\" for i in range(full_features.shape[1])]\n",
        "# df = pd.DataFrame(data=full_features, columns=feature_names)\n",
        "# df['label'] = full_labels\n",
        "\n",
        "# print(df)\n",
        "\n",
        "# Feature names for DataFrame\n",
        "feature_names = [f\"feature_{i}\" for i in range(full_features.shape[1])]\n",
        "\n",
        "# Creating DataFrame from extracted features and labels\n",
        "df = pd.DataFrame(data=full_features, columns=feature_names)\n",
        "df['label'] = full_labels\n",
        "\n",
        "# Function to map label integer to class name\n",
        "def map_label(label):\n",
        "    class_names = ['mel', 'bcc', 'norm']\n",
        "    return class_names[label]\n",
        "\n",
        "# Applying map_label function to convert labels to class names\n",
        "df['label'] = df['label'].apply(map_label)\n",
        "\n",
        "# Displaying DataFrame with better format\n",
        "pd.set_option('display.max_columns', 10)  # Show all columns\n",
        "pd.set_option('display.max_rows', 10)  # Limit the number of rows displayed\n",
        "pd.set_option('display.float_format', lambda x: '%.4f' % x)  # Format float numbers\n",
        "\n",
        "# Showing the first few rows of the DataFrame\n",
        "print(df.head())\n",
        "\n",
        "# Optionally, save the DataFrame to a CSV file for further analysis\n",
        "df.to_csv('/content/extracted_features_Mobilenet.csv', index=False)"
      ],
      "metadata": {
        "colab": {
          "base_uri": "https://localhost:8080/"
        },
        "id": "Cp8wERaTnY8P",
        "outputId": "a32af726-484a-4eef-c656-860dd5260882"
      },
      "execution_count": null,
      "outputs": [
        {
          "output_type": "stream",
          "name": "stdout",
          "text": [
            "   feature_0  feature_1  feature_2  feature_3  feature_4  ...  feature_508  \\\n",
            "0     0.0869     0.0000     0.1808     0.0134     0.4758  ...       0.0000   \n",
            "1     0.0827     0.0000     0.0000     0.0000     0.1076  ...       0.0000   \n",
            "2     0.0558     0.0000     0.0461     0.0698     0.3947  ...       0.0000   \n",
            "3     0.0503     0.0000     0.1403     0.0227     0.4303  ...       0.0000   \n",
            "4     0.0047     0.0000     0.4902     0.0000     0.9530  ...       0.0000   \n",
            "\n",
            "   feature_509  feature_510  feature_511  label  \n",
            "0       0.0024       0.8480       0.0000    mel  \n",
            "1       0.0000       0.6017       0.0000   norm  \n",
            "2       0.0000       0.8234       0.0000    mel  \n",
            "3       0.0000       0.8194       0.0000    bcc  \n",
            "4       0.0094       1.0389       0.0000    bcc  \n",
            "\n",
            "[5 rows x 513 columns]\n"
          ]
        }
      ]
    },
    {
      "cell_type": "code",
      "source": [
        "from sklearn.metrics import confusion_matrix, classification_report\n",
        "from sklearn.metrics import accuracy_score, precision_score, recall_score, f1_score, confusion_matrix, classification_report\n",
        "\n",
        "# k = 5\n",
        "# skf = StratifiedKFold(n_splits=k, shuffle=True, random_state=42)\n",
        "# accuracies = []\n",
        "# best_accuracy = 0\n",
        "# best_model = None\n",
        "# best_confusion_matrix = None\n",
        "# best_classification_report = None\n",
        "\n",
        "# for fold, (train_index, test_index) in enumerate(skf.split(full_features, full_labels)):\n",
        "#     train_features, test_features = full_features[train_index], full_features[test_index]\n",
        "#     train_labels, test_labels = full_labels[train_index], full_labels[test_index]\n",
        "\n",
        "#     svm = SVC()\n",
        "#     svm.fit(train_features, train_labels)\n",
        "\n",
        "#     predictions = svm.predict(test_features)\n",
        "#     accuracy = accuracy_score(test_labels, predictions)\n",
        "#     accuracies.append(accuracy)\n",
        "\n",
        "#     print(f'Fold {fold + 1}, Accuracy: {accuracy}')\n",
        "\n",
        "#     if accuracy > best_accuracy:\n",
        "#         best_accuracy = accuracy\n",
        "#         best_model = svm\n",
        "#         best_confusion_matrix = confusion_matrix(test_labels, predictions)\n",
        "#         best_classification_report = classification_report(test_labels, predictions)\n",
        "#         joblib.dump(best_model, 'best_svm_model.pkl')\n",
        "\n",
        "# print(f'Average accuracy: {np.mean(accuracies)}, Best accuracy: {best_accuracy}')\n",
        "# print(\"Best Confusion Matrix:\")\n",
        "# print(best_confusion_matrix)\n",
        "# print(\"Best Classification Report:\")\n",
        "# print(best_classification_report)\n",
        "\n",
        "k = 5  # Number of folds\n",
        "skf = StratifiedKFold(n_splits=k, shuffle=True, random_state=42)\n",
        "accuracies = []\n",
        "precisions = []\n",
        "sensitivities = []\n",
        "specificities = []\n",
        "f1_scores = []\n",
        "best_accuracy = 0\n",
        "best_model = None\n",
        "best_confusion_matrix = None\n",
        "best_classification_report = None\n",
        "\n",
        "for fold, (train_index, test_index) in enumerate(skf.split(full_features, full_labels)):\n",
        "    train_features, test_features = full_features[train_index], full_features[test_index]\n",
        "    train_labels, test_labels = full_labels[train_index], full_labels[test_index]\n",
        "\n",
        "    svm = SVC()\n",
        "    svm.fit(train_features, train_labels)\n",
        "\n",
        "    predictions = svm.predict(test_features)\n",
        "    accuracy = accuracy_score(test_labels, predictions)\n",
        "    accuracies.append(accuracy)\n",
        "\n",
        "    precision = precision_score(test_labels, predictions, average='weighted')\n",
        "    precisions.append(precision)\n",
        "\n",
        "    recall = recall_score(test_labels, predictions, average='weighted')\n",
        "    sensitivities.append(recall)\n",
        "\n",
        "    cm = confusion_matrix(test_labels, predictions)\n",
        "    specificity = np.diag(cm) / np.sum(cm, axis=1)\n",
        "    specificity = np.mean(specificity)\n",
        "    specificities.append(specificity)\n",
        "\n",
        "    f1 = f1_score(test_labels, predictions, average='weighted')\n",
        "    f1_scores.append(f1)\n",
        "\n",
        "    print(f'Fold {fold + 1}, Accuracy: {accuracy:.4f}, Precision: {precision:.4f}, Sensitivity: {recall:.4f}, Specificity: {specificity:.4f}, F1-score: {f1:.4f}')\n",
        "\n",
        "    if accuracy > best_accuracy:\n",
        "        best_accuracy = accuracy\n",
        "        best_model = svm\n",
        "        best_confusion_matrix = cm\n",
        "        best_classification_report = classification_report(test_labels, predictions)\n",
        "        joblib.dump(best_model, 'best_svm_model.pkl')\n",
        "\n",
        "average_accuracy = np.mean(accuracies)\n",
        "average_precision = np.mean(precisions)\n",
        "average_sensitivity = np.mean(sensitivities)\n",
        "average_specificity = np.mean(specificities)\n",
        "average_f1 = np.mean(f1_scores)\n",
        "\n",
        "print(f'Average accuracy: {average_accuracy:.4f}, Best accuracy: {best_accuracy:.4f}')\n",
        "print(\"Best Confusion Matrix:\")\n",
        "print(best_confusion_matrix)\n",
        "print(\"Best Classification Report:\")\n",
        "print(best_classification_report)\n",
        "\n",
        "print(f'Average Precision: {average_precision:.4f}')\n",
        "print(f'Average Sensitivity: {average_sensitivity:.4f}')\n",
        "print(f'Average Specificity: {average_specificity:.4f}')\n",
        "print(f'Average F1-score: {average_f1:.4f}')\n"
      ],
      "metadata": {
        "colab": {
          "base_uri": "https://localhost:8080/"
        },
        "id": "qkizrLxbngDH",
        "outputId": "39d8398c-4534-4f68-ac56-163bb4bd2d5c"
      },
      "execution_count": null,
      "outputs": [
        {
          "output_type": "stream",
          "name": "stdout",
          "text": [
            "Fold 1, Accuracy: 0.7768, Precision: 0.7756, Sensitivity: 0.7768, Specificity: 0.7768, F1-score: 0.7742\n",
            "Fold 2, Accuracy: 0.7072, Precision: 0.7089, Sensitivity: 0.7072, Specificity: 0.7072, F1-score: 0.6996\n",
            "Fold 3, Accuracy: 0.7623, Precision: 0.7696, Sensitivity: 0.7623, Specificity: 0.7623, F1-score: 0.7618\n",
            "Fold 4, Accuracy: 0.7652, Precision: 0.7718, Sensitivity: 0.7652, Specificity: 0.7652, F1-score: 0.7651\n",
            "Fold 5, Accuracy: 0.7449, Precision: 0.7482, Sensitivity: 0.7449, Specificity: 0.7449, F1-score: 0.7421\n",
            "Average accuracy: 0.7513, Best accuracy: 0.7768\n",
            "Best Confusion Matrix:\n",
            "[[ 80  26   9]\n",
            " [ 19  82  14]\n",
            " [  2   7 106]]\n",
            "Best Classification Report:\n",
            "              precision    recall  f1-score   support\n",
            "\n",
            "           0       0.79      0.70      0.74       115\n",
            "           1       0.71      0.71      0.71       115\n",
            "           2       0.82      0.92      0.87       115\n",
            "\n",
            "    accuracy                           0.78       345\n",
            "   macro avg       0.78      0.78      0.77       345\n",
            "weighted avg       0.78      0.78      0.77       345\n",
            "\n",
            "Average Precision: 0.7548\n",
            "Average Sensitivity: 0.7513\n",
            "Average Specificity: 0.7513\n",
            "Average F1-score: 0.7486\n"
          ]
        }
      ]
    },
    {
      "cell_type": "code",
      "source": [
        "import seaborn as sns\n",
        "import matplotlib.pyplot as plt\n",
        "\n",
        "# Menampilkan Confusion Matrix dengan label yang tepat\n",
        "plt.figure(figsize=(10, 8))\n",
        "sns.heatmap(best_confusion_matrix, annot=True, fmt='d', cmap='Blues', cbar=False)\n",
        "\n",
        "# Mendapatkan nama kelas dari variabel class_names\n",
        "class_names = ['mel', 'bcc', 'norm']\n",
        "\n",
        "# Menambahkan label ke sumbu x dan y\n",
        "plt.xticks(ticks=np.arange(len(class_names))+0.5, labels=class_names, ha='center')\n",
        "plt.yticks(ticks=np.arange(len(class_names))+0.5, labels=class_names, va='center')\n",
        "\n",
        "plt.title('Confusion Matrix')\n",
        "plt.xlabel('Predicted Label')\n",
        "plt.ylabel('True Label')\n",
        "plt.show()"
      ],
      "metadata": {
        "colab": {
          "base_uri": "https://localhost:8080/",
          "height": 718
        },
        "id": "V-jRM9tW_QNZ",
        "outputId": "242c89db-86a1-481d-a337-85e360333c5c"
      },
      "execution_count": null,
      "outputs": [
        {
          "output_type": "display_data",
          "data": {
            "text/plain": [
              "<Figure size 1000x800 with 1 Axes>"
            ],
            "image/png": "[encoded data removed]"
          },
          "metadata": {}
        }
      ]
    },
    {
      "cell_type": "code",
      "source": [
        "from sklearn.model_selection import GridSearchCV\n",
        "from sklearn.metrics import accuracy_score, classification_report, confusion_matrix\n",
        "import joblib\n",
        "\n",
        "# Memuat model SVM terbaik yang sudah disimpan sebelumnya\n",
        "best_svm = joblib.load('best_svm_model.pkl')\n",
        "\n",
        "# Parameter yang akan diuji\n",
        "param_grid = {\n",
        "    'C': [0.1, 1, 10, 100],\n",
        "    'gamma': ['scale', 'auto', 0.1, 1, 10],\n",
        "    'kernel': ['linear', 'poly', 'rbf', 'sigmoid']\n",
        "}\n",
        "\n",
        "# Membuat objek GridSearchCV\n",
        "grid_search = GridSearchCV(estimator=best_svm, param_grid=param_grid, cv=5, scoring='accuracy')\n",
        "\n",
        "# Melakukan grid search\n",
        "grid_search.fit(train_features, train_labels)\n",
        "\n",
        "# Menampilkan parameter terbaik\n",
        "print(\"Parameter terbaik:\", grid_search.best_params_)\n"
      ],
      "metadata": {
        "colab": {
          "base_uri": "https://localhost:8080/"
        },
        "id": "IfZGKkINnpb_",
        "outputId": "28684e8f-6db0-4a3a-d806-b54543189562"
      },
      "execution_count": null,
      "outputs": [
        {
          "output_type": "stream",
          "name": "stdout",
          "text": [
            "Parameter terbaik: {'C': 10, 'gamma': 0.1, 'kernel': 'rbf'}\n"
          ]
        }
      ]
    },
    {
      "cell_type": "code",
      "source": [
        "from sklearn.model_selection import StratifiedKFold\n",
        "from sklearn.metrics import accuracy_score, classification_report, confusion_matrix\n",
        "import joblib\n",
        "\n",
        "# Best parameters obtained from GridSearchCV\n",
        "best_params = {'C': 10, 'gamma': 0.1, 'kernel': 'rbf'}\n",
        "\n",
        "k = 5  # Number of folds\n",
        "skf = StratifiedKFold(n_splits=k, shuffle=True, random_state=42)\n",
        "accuracies = []\n",
        "precisions = []\n",
        "sensitivities = []\n",
        "specificities = []\n",
        "f1_scores = []\n",
        "best_accuracy = 0\n",
        "best_model = None\n",
        "best_confusion_matrix = None\n",
        "best_classification_report = None\n",
        "\n",
        "for fold, (train_index, test_index) in enumerate(skf.split(full_features, full_labels)):\n",
        "    train_features, test_features = full_features[train_index], full_features[test_index]\n",
        "    train_labels, test_labels = full_labels[train_index], full_labels[test_index]\n",
        "\n",
        "    svm = SVC(**best_params)\n",
        "    svm.fit(train_features, train_labels)\n",
        "\n",
        "    predictions = svm.predict(test_features)\n",
        "    accuracy = accuracy_score(test_labels, predictions)\n",
        "    accuracies.append(accuracy)\n",
        "\n",
        "    precision = precision_score(test_labels, predictions, average='weighted')\n",
        "    precisions.append(precision)\n",
        "\n",
        "    recall = recall_score(test_labels, predictions, average='weighted')\n",
        "    sensitivities.append(recall)\n",
        "\n",
        "    cm = confusion_matrix(test_labels, predictions)\n",
        "    specificity = np.diag(cm) / np.sum(cm, axis=1)\n",
        "    specificity = np.mean(specificity)\n",
        "    specificities.append(specificity)\n",
        "\n",
        "    f1 = f1_score(test_labels, predictions, average='weighted')\n",
        "    f1_scores.append(f1)\n",
        "\n",
        "    print(f'Fold {fold + 1}, Accuracy: {accuracy:.4f}, Precision: {precision:.4f}, Sensitivity: {recall:.4f}, Specificity: {specificity:.4f}, F1-score: {f1:.4f}')\n",
        "\n",
        "    if accuracy > best_accuracy:\n",
        "        best_accuracy = accuracy\n",
        "        best_model = svm\n",
        "        best_confusion_matrix = cm\n",
        "        best_classification_report = classification_report(test_labels, predictions)\n",
        "        joblib.dump(best_model, 'best_svm_model_tuning.pkl')\n",
        "\n",
        "average_accuracy = np.mean(accuracies)\n",
        "average_precision = np.mean(precisions)\n",
        "average_sensitivity = np.mean(sensitivities)\n",
        "average_specificity = np.mean(specificities)\n",
        "average_f1 = np.mean(f1_scores)\n",
        "\n",
        "print(f'Average accuracy: {average_accuracy:.4f}, Best accuracy: {best_accuracy:.4f}')\n",
        "print(\"Best Confusion Matrix:\")\n",
        "print(best_confusion_matrix)\n",
        "print(\"Best Classification Report:\")\n",
        "print(best_classification_report)\n",
        "\n",
        "print(f'Average Precision: {average_precision:.4f}')\n",
        "print(f'Average Sensitivity: {average_sensitivity:.4f}')\n",
        "print(f'Average Specificity: {average_specificity:.4f}')\n",
        "print(f'Average F1-score: {average_f1:.4f}')\n"
      ],
      "metadata": {
        "colab": {
          "base_uri": "https://localhost:8080/"
        },
        "id": "9G7yppeIpYEG",
        "outputId": "903e8e89-7d80-4e10-80e3-030f2275c222"
      },
      "execution_count": null,
      "outputs": [
        {
          "output_type": "stream",
          "name": "stdout",
          "text": [
            "Fold 1, Accuracy: 0.8986, Precision: 0.8987, Sensitivity: 0.8986, Specificity: 0.8986, F1-score: 0.8986\n",
            "Fold 2, Accuracy: 0.8406, Precision: 0.8413, Sensitivity: 0.8406, Specificity: 0.8406, F1-score: 0.8385\n",
            "Fold 3, Accuracy: 0.8667, Precision: 0.8688, Sensitivity: 0.8667, Specificity: 0.8667, F1-score: 0.8669\n",
            "Fold 4, Accuracy: 0.8261, Precision: 0.8268, Sensitivity: 0.8261, Specificity: 0.8261, F1-score: 0.8264\n",
            "Fold 5, Accuracy: 0.8783, Precision: 0.8794, Sensitivity: 0.8783, Specificity: 0.8783, F1-score: 0.8783\n",
            "Average accuracy: 0.8620, Best accuracy: 0.8986\n",
            "Best Confusion Matrix:\n",
            "[[ 99  11   5]\n",
            " [  9 104   2]\n",
            " [  7   1 107]]\n",
            "Best Classification Report:\n",
            "              precision    recall  f1-score   support\n",
            "\n",
            "           0       0.86      0.86      0.86       115\n",
            "           1       0.90      0.90      0.90       115\n",
            "           2       0.94      0.93      0.93       115\n",
            "\n",
            "    accuracy                           0.90       345\n",
            "   macro avg       0.90      0.90      0.90       345\n",
            "weighted avg       0.90      0.90      0.90       345\n",
            "\n",
            "Average Precision: 0.8630\n",
            "Average Sensitivity: 0.8620\n",
            "Average Specificity: 0.8620\n",
            "Average F1-score: 0.8617\n"
          ]
        }
      ]
    },
    {
      "cell_type": "code",
      "source": [
        "# Menampilkan Confusion Matrix dengan label yang tepat\n",
        "plt.figure(figsize=(10, 8))\n",
        "sns.heatmap(best_confusion_matrix, annot=True, fmt='d', cmap='Blues', cbar=False)\n",
        "\n",
        "# Mendapatkan nama kelas dari variabel class_names\n",
        "class_names = ['mel', 'bcc', 'norm']\n",
        "\n",
        "# Menambahkan label ke sumbu x dan y\n",
        "plt.xticks(ticks=np.arange(len(class_names))+0.5, labels=class_names, ha='center')\n",
        "plt.yticks(ticks=np.arange(len(class_names))+0.5, labels=class_names, va='center')\n",
        "\n",
        "plt.title('Confusion Matrix')\n",
        "plt.xlabel('Predicted Label')\n",
        "plt.ylabel('True Label')\n",
        "plt.show()"
      ],
      "metadata": {
        "id": "9r_d_0BKFoW7",
        "outputId": "bc2a0fed-209a-4a76-940c-9d66553896c3",
        "colab": {
          "base_uri": "https://localhost:8080/",
          "height": 718
        }
      },
      "execution_count": null,
      "outputs": [
        {
          "output_type": "display_data",
          "data": {
            "text/plain": [
              "<Figure size 1000x800 with 1 Axes>"
            ],
            "image/png": "[encoded data removed]"
          },
          "metadata": {}
        }
      ]
    }
  ]
}