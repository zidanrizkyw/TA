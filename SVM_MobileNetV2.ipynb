{
  "nbformat": 4,
  "nbformat_minor": 0,
  "metadata": {
    "colab": {
      "provenance": [],
      "gpuType": "T4"
    },
    "kernelspec": {
      "name": "python3",
      "display_name": "Python 3"
    },
    "language_info": {
      "name": "python"
    },
    "accelerator": "GPU"
  },
  "cells": [
    {
      "cell_type": "code",
      "execution_count": null,
      "metadata": {
        "colab": {
          "base_uri": "https://localhost:8080/"
        },
        "id": "XgoMc_LiC_BH",
        "outputId": "dfd23b4a-63bd-4c42-82ac-d40ff1ada912"
      },
      "outputs": [
        {
          "output_type": "stream",
          "name": "stdout",
          "text": [
            "Mounted at /content/drive\n"
          ]
        }
      ],
      "source": [
        "from google.colab import drive\n",
        "import zipfile\n",
        "import os\n",
        "\n",
        "\n",
        "drive.mount('/content/drive')\n",
        "with zipfile.ZipFile('/content/drive/MyDrive/Dataset_Bersih.zip', 'r') as zip_ref:\n",
        "    zip_ref.extractall('/content/')"
      ]
    },
    {
      "cell_type": "code",
      "source": [
        "import tensorflow as tf\n",
        "from tensorflow.keras.preprocessing import image_dataset_from_directory\n",
        "from tensorflow.keras.applications import MobileNetV2\n",
        "from tensorflow.keras.applications.mobilenet_v2 import preprocess_input\n",
        "from sklearn.svm import SVC\n",
        "from sklearn.model_selection import StratifiedKFold\n",
        "from sklearn.metrics import accuracy_score\n",
        "import numpy as np\n",
        "import joblib\n",
        "\n",
        "# Path ke direktori dataset\n",
        "dataset_dir = '/content/Dataset Bersih'\n",
        "\n",
        "# Memuat dataset\n",
        "full_dataset = image_dataset_from_directory(dataset_dir,\n",
        "                                            labels='inferred',\n",
        "                                            label_mode='int',\n",
        "                                            class_names=['mel', 'bcc', 'norm'],\n",
        "                                            image_size=(224, 224),\n",
        "                                            batch_size=32,\n",
        "                                            shuffle=True)\n"
      ],
      "metadata": {
        "colab": {
          "base_uri": "https://localhost:8080/"
        },
        "id": "9x6MqkqADaCH",
        "outputId": "194448ed-0895-497d-eedc-d0ca2007c747"
      },
      "execution_count": null,
      "outputs": [
        {
          "output_type": "stream",
          "name": "stdout",
          "text": [
            "Found 1725 files belonging to 3 classes.\n"
          ]
        }
      ]
    },
    {
      "cell_type": "code",
      "source": [
        "base_model = MobileNetV2(weights='imagenet', include_top=False, input_shape=(224, 224, 3))\n",
        "base_model.trainable = True\n",
        "\n",
        "# Menambahkan GlobalAveragePooling2D layer untuk mendapatkan vektor fitur\n",
        "model = tf.keras.Sequential([\n",
        "    base_model,\n",
        "    tf.keras.layers.GlobalAveragePooling2D()\n",
        "])\n",
        "\n",
        "def extract_features(dataset):\n",
        "    features = []\n",
        "    labels = []\n",
        "    for images, lbls in dataset:\n",
        "        preprocessed_images = preprocess_input(images)\n",
        "        feats = model.predict(preprocessed_images)\n",
        "        features.append(feats)\n",
        "        labels.append(lbls.numpy())\n",
        "    return np.concatenate(features), np.concatenate(labels)\n",
        "\n",
        "full_features, full_labels = extract_features(full_dataset)\n",
        "\n",
        "# Save the model\n",
        "model.save(\"/content/model_MobilenetV2.h5\")\n"
      ],
      "metadata": {
        "colab": {
          "base_uri": "https://localhost:8080/"
        },
        "id": "gCj4FrmAD1lw",
        "outputId": "3283b788-d188-4529-b54b-c8b67207e0d3"
      },
      "execution_count": null,
      "outputs": [
        {
          "output_type": "stream",
          "name": "stdout",
          "text": [
            "Downloading data from https://storage.googleapis.com/tensorflow/keras-applications/mobilenet_v2/mobilenet_v2_weights_tf_dim_ordering_tf_kernels_1.0_224_no_top.h5\n",
            "9406464/9406464 [==============================] - 0s 0us/step\n",
            "1/1 [==============================] - 4s 4s/step\n",
            "1/1 [==============================] - 0s 167ms/step\n",
            "1/1 [==============================] - 0s 93ms/step\n",
            "1/1 [==============================] - 0s 115ms/step\n",
            "1/1 [==============================] - 0s 101ms/step\n",
            "1/1 [==============================] - 0s 95ms/step\n",
            "1/1 [==============================] - 0s 58ms/step\n",
            "1/1 [==============================] - 0s 88ms/step\n",
            "1/1 [==============================] - 0s 85ms/step\n",
            "1/1 [==============================] - 0s 70ms/step\n",
            "1/1 [==============================] - 0s 86ms/step\n",
            "1/1 [==============================] - 0s 61ms/step\n",
            "1/1 [==============================] - 0s 65ms/step\n",
            "1/1 [==============================] - 0s 44ms/step\n",
            "1/1 [==============================] - 0s 89ms/step\n",
            "1/1 [==============================] - 0s 95ms/step\n",
            "1/1 [==============================] - 0s 98ms/step\n",
            "1/1 [==============================] - 0s 81ms/step\n",
            "1/1 [==============================] - 0s 51ms/step\n",
            "1/1 [==============================] - 0s 59ms/step\n",
            "1/1 [==============================] - 0s 94ms/step\n",
            "1/1 [==============================] - 0s 66ms/step\n",
            "1/1 [==============================] - 0s 85ms/step\n",
            "1/1 [==============================] - 0s 49ms/step\n",
            "1/1 [==============================] - 0s 54ms/step\n",
            "1/1 [==============================] - 0s 59ms/step\n",
            "1/1 [==============================] - 0s 61ms/step\n",
            "1/1 [==============================] - 0s 75ms/step\n",
            "1/1 [==============================] - 0s 66ms/step\n",
            "1/1 [==============================] - 0s 50ms/step\n",
            "1/1 [==============================] - 0s 53ms/step\n",
            "1/1 [==============================] - 0s 59ms/step\n",
            "1/1 [==============================] - 0s 74ms/step\n",
            "1/1 [==============================] - 0s 79ms/step\n",
            "1/1 [==============================] - 0s 56ms/step\n",
            "1/1 [==============================] - 0s 103ms/step\n",
            "1/1 [==============================] - 0s 82ms/step\n",
            "1/1 [==============================] - 0s 76ms/step\n",
            "1/1 [==============================] - 0s 59ms/step\n",
            "1/1 [==============================] - 0s 86ms/step\n",
            "1/1 [==============================] - 0s 65ms/step\n",
            "1/1 [==============================] - 0s 123ms/step\n",
            "1/1 [==============================] - 0s 67ms/step\n",
            "1/1 [==============================] - 0s 115ms/step\n",
            "1/1 [==============================] - 0s 46ms/step\n",
            "1/1 [==============================] - 0s 37ms/step\n",
            "1/1 [==============================] - 0s 37ms/step\n",
            "1/1 [==============================] - 0s 43ms/step\n",
            "1/1 [==============================] - 0s 36ms/step\n",
            "1/1 [==============================] - 0s 36ms/step\n",
            "1/1 [==============================] - 0s 51ms/step\n",
            "1/1 [==============================] - 0s 43ms/step\n",
            "1/1 [==============================] - 0s 39ms/step\n",
            "1/1 [==============================] - 2s 2s/step\n"
          ]
        },
        {
          "output_type": "stream",
          "name": "stderr",
          "text": [
            "/usr/local/lib/python3.10/dist-packages/keras/src/engine/training.py:3103: UserWarning: You are saving your model as an HDF5 file via `model.save()`. This file format is considered legacy. We recommend using instead the native Keras format, e.g. `model.save('my_model.keras')`.\n",
            "  saving_api.save_model(\n",
            "WARNING:tensorflow:Compiled the loaded model, but the compiled metrics have yet to be built. `model.compile_metrics` will be empty until you train or evaluate the model.\n"
          ]
        }
      ]
    },
    {
      "cell_type": "code",
      "source": [
        "import pandas as pd  # Impor pandas\n",
        "# # Menampilkan hasil ekstraksi fitur menggunakan DataFrame\n",
        "# feature_names = [f\"feature_{i}\" for i in range(full_features.shape[1])]\n",
        "# df = pd.DataFrame(data=full_features, columns=feature_names)\n",
        "# df['label'] = full_labels\n",
        "\n",
        "# Feature names for DataFrame\n",
        "feature_names = [f\"feature_{i}\" for i in range(full_features.shape[1])]\n",
        "\n",
        "# Creating DataFrame from extracted features and labels\n",
        "df = pd.DataFrame(data=full_features, columns=feature_names)\n",
        "df['label'] = full_labels\n",
        "\n",
        "# Function to map label integer to class name\n",
        "def map_label(label):\n",
        "    class_names = ['mel', 'bcc', 'norm']\n",
        "    return class_names[label]\n",
        "\n",
        "# Applying map_label function to convert labels to class names\n",
        "df['label'] = df['label'].apply(map_label)\n",
        "\n",
        "# Displaying DataFrame with better format\n",
        "pd.set_option('display.max_columns', 10)  # Show all columns\n",
        "pd.set_option('display.max_rows', 10)  # Limit the number of rows displayed\n",
        "pd.set_option('display.float_format', lambda x: '%.4f' % x)  # Format float numbers\n",
        "\n",
        "# Showing the first few rows of the DataFrame\n",
        "print(df.head())\n",
        "\n",
        "# Optionally, save the DataFrame to a CSV file for further analysis\n",
        "df.to_csv('/content/extracted_features_Mobilenet.csv', index=False)\n"
      ],
      "metadata": {
        "colab": {
          "base_uri": "https://localhost:8080/"
        },
        "id": "xM-SivxaIsHR",
        "outputId": "f3fe524a-c8f8-49ed-ba09-b6022a2d6695"
      },
      "execution_count": null,
      "outputs": [
        {
          "output_type": "stream",
          "name": "stdout",
          "text": [
            "   feature_0  feature_1  feature_2  feature_3  feature_4  ...  feature_1276  \\\n",
            "0     0.4719     0.5244     0.0143     1.1106     0.0254  ...        0.0000   \n",
            "1     1.6773     0.1648     0.0003     0.0000     0.0000  ...        0.0000   \n",
            "2     0.5593     0.0375     0.0519     0.0000     0.0003  ...        0.0000   \n",
            "3     0.7120     0.0007     0.0118     0.1839     0.0000  ...        0.0000   \n",
            "4     1.3000     1.2128     0.0000     0.0000     0.0000  ...        0.0000   \n",
            "\n",
            "   feature_1277  feature_1278  feature_1279  label  \n",
            "0        0.0000        0.0973        0.9100   norm  \n",
            "1        0.0000        0.0000        0.8219    mel  \n",
            "2        0.0000        0.0198        2.2728   norm  \n",
            "3        0.0000        0.0309        0.3167    bcc  \n",
            "4        0.0000        0.1126        0.8129    mel  \n",
            "\n",
            "[5 rows x 1281 columns]\n"
          ]
        }
      ]
    },
    {
      "cell_type": "code",
      "source": [
        "from sklearn.metrics import confusion_matrix, classification_report\n",
        "from sklearn.metrics import accuracy_score, precision_score, recall_score, f1_score, confusion_matrix, classification_report\n",
        "\n",
        "# k = 5\n",
        "# skf = StratifiedKFold(n_splits=k, shuffle=True, random_state=42)\n",
        "# accuracies = []\n",
        "# best_accuracy = 0\n",
        "# best_model = None\n",
        "# best_confusion_matrix = None\n",
        "# best_classification_report = None\n",
        "\n",
        "# for fold, (train_index, test_index) in enumerate(skf.split(full_features, full_labels)):\n",
        "#     train_features, test_features = full_features[train_index], full_features[test_index]\n",
        "#     train_labels, test_labels = full_labels[train_index], full_labels[test_index]\n",
        "\n",
        "#     svm = SVC()\n",
        "#     svm.fit(train_features, train_labels)\n",
        "\n",
        "#     predictions = svm.predict(test_features)\n",
        "#     accuracy = accuracy_score(test_labels, predictions)\n",
        "#     accuracies.append(accuracy)\n",
        "\n",
        "#     print(f'Fold {fold + 1}, Accuracy: {accuracy}')\n",
        "\n",
        "#     if accuracy > best_accuracy:\n",
        "#         best_accuracy = accuracy\n",
        "#         best_model = svm\n",
        "#         best_confusion_matrix = confusion_matrix(test_labels, predictions)\n",
        "#         best_classification_report = classification_report(test_labels, predictions)\n",
        "#         joblib.dump(best_model, 'best_svm_model.pkl')\n",
        "\n",
        "# print(f'Average accuracy: {np.mean(accuracies)}, Best accuracy: {best_accuracy}')\n",
        "# print(\"Best Confusion Matrix:\")\n",
        "# print(best_confusion_matrix)\n",
        "# print(\"Best Classification Report:\")\n",
        "# print(best_classification_report)\n",
        "\n",
        "k = 5  # Number of folds\n",
        "skf = StratifiedKFold(n_splits=k, shuffle=True, random_state=42)\n",
        "accuracies = []\n",
        "precisions = []\n",
        "sensitivities = []\n",
        "specificities = []\n",
        "f1_scores = []\n",
        "best_accuracy = 0\n",
        "best_model = None\n",
        "best_confusion_matrix = None\n",
        "best_classification_report = None\n",
        "\n",
        "for fold, (train_index, test_index) in enumerate(skf.split(full_features, full_labels)):\n",
        "    train_features, test_features = full_features[train_index], full_features[test_index]\n",
        "    train_labels, test_labels = full_labels[train_index], full_labels[test_index]\n",
        "\n",
        "    svm = SVC()\n",
        "    svm.fit(train_features, train_labels)\n",
        "\n",
        "    predictions = svm.predict(test_features)\n",
        "    accuracy = accuracy_score(test_labels, predictions)\n",
        "    accuracies.append(accuracy)\n",
        "\n",
        "    precision = precision_score(test_labels, predictions, average='weighted')\n",
        "    precisions.append(precision)\n",
        "\n",
        "    recall = recall_score(test_labels, predictions, average='weighted')\n",
        "    sensitivities.append(recall)\n",
        "\n",
        "    cm = confusion_matrix(test_labels, predictions)\n",
        "    specificity = np.diag(cm) / np.sum(cm, axis=1)\n",
        "    specificity = np.mean(specificity)\n",
        "    specificities.append(specificity)\n",
        "\n",
        "    f1 = f1_score(test_labels, predictions, average='weighted')\n",
        "    f1_scores.append(f1)\n",
        "\n",
        "    print(f'Fold {fold + 1}, Accuracy: {accuracy:.4f}, Precision: {precision:.4f}, Sensitivity: {recall:.4f}, Specificity: {specificity:.4f}, F1-score: {f1:.4f}')\n",
        "\n",
        "    if accuracy > best_accuracy:\n",
        "        best_accuracy = accuracy\n",
        "        best_model = svm\n",
        "        best_confusion_matrix = cm\n",
        "        best_classification_report = classification_report(test_labels, predictions)\n",
        "        joblib.dump(best_model, 'best_svm_model.pkl')\n",
        "\n",
        "average_accuracy = np.mean(accuracies)\n",
        "average_precision = np.mean(precisions)\n",
        "average_sensitivity = np.mean(sensitivities)\n",
        "average_specificity = np.mean(specificities)\n",
        "average_f1 = np.mean(f1_scores)\n",
        "\n",
        "print(f'Average accuracy: {average_accuracy:.4f}, Best accuracy: {best_accuracy:.4f}')\n",
        "print(\"Best Confusion Matrix:\")\n",
        "print(best_confusion_matrix)\n",
        "print(\"Best Classification Report:\")\n",
        "print(best_classification_report)\n",
        "\n",
        "print(f'Average Precision: {average_precision:.4f}')\n",
        "print(f'Average Sensitivity: {average_sensitivity:.4f}')\n",
        "print(f'Average Specificity: {average_specificity:.4f}')\n",
        "print(f'Average F1-score: {average_f1:.4f}')\n"
      ],
      "metadata": {
        "colab": {
          "base_uri": "https://localhost:8080/"
        },
        "id": "_S7aqgFWeVrV",
        "outputId": "8c893a7a-0303-4d0c-ccb4-f307b220e85e"
      },
      "execution_count": null,
      "outputs": [
        {
          "output_type": "stream",
          "name": "stdout",
          "text": [
            "Fold 1, Accuracy: 0.8841, Precision: 0.8854, Sensitivity: 0.8841, Specificity: 0.8841, F1-score: 0.8842\n",
            "Fold 2, Accuracy: 0.8986, Precision: 0.9027, Sensitivity: 0.8986, Specificity: 0.8986, F1-score: 0.8993\n",
            "Fold 3, Accuracy: 0.8986, Precision: 0.9014, Sensitivity: 0.8986, Specificity: 0.8986, F1-score: 0.8979\n",
            "Fold 4, Accuracy: 0.8812, Precision: 0.8897, Sensitivity: 0.8812, Specificity: 0.8812, F1-score: 0.8818\n",
            "Fold 5, Accuracy: 0.8957, Precision: 0.8962, Sensitivity: 0.8957, Specificity: 0.8957, F1-score: 0.8958\n",
            "Average accuracy: 0.8916, Best accuracy: 0.8986\n",
            "Best Confusion Matrix:\n",
            "[[103   9   3]\n",
            " [  7 107   1]\n",
            " [ 15   0 100]]\n",
            "Best Classification Report:\n",
            "              precision    recall  f1-score   support\n",
            "\n",
            "           0       0.82      0.90      0.86       115\n",
            "           1       0.92      0.93      0.93       115\n",
            "           2       0.96      0.87      0.91       115\n",
            "\n",
            "    accuracy                           0.90       345\n",
            "   macro avg       0.90      0.90      0.90       345\n",
            "weighted avg       0.90      0.90      0.90       345\n",
            "\n",
            "Average Precision: 0.8951\n",
            "Average Sensitivity: 0.8916\n",
            "Average Specificity: 0.8916\n",
            "Average F1-score: 0.8918\n"
          ]
        }
      ]
    },
    {
      "cell_type": "code",
      "source": [
        "import seaborn as sns\n",
        "import matplotlib.pyplot as plt\n",
        "\n",
        "# Plotting Confusion Matrix\n",
        "# plt.figure(figsize=(10, 8))\n",
        "# sns.heatmap(best_confusion_matrix, annot=True, fmt='d', cmap='Blues', cbar=False)\n",
        "# plt.title('Confusion Matrix')\n",
        "# plt.xlabel('Predicted Label')\n",
        "# plt.ylabel('True Label')\n",
        "# plt.show()\n",
        "\n",
        "# Menampilkan Confusion Matrix dengan label yang tepat\n",
        "plt.figure(figsize=(10, 8))\n",
        "sns.heatmap(best_confusion_matrix, annot=True, fmt='d', cmap='Blues', cbar=False)\n",
        "\n",
        "# Mendapatkan nama kelas dari variabel class_names\n",
        "class_names = ['mel', 'bcc', 'norm']\n",
        "\n",
        "# Menambahkan label ke sumbu x dan y\n",
        "plt.xticks(ticks=np.arange(len(class_names))+0.5, labels=class_names, ha='center')\n",
        "plt.yticks(ticks=np.arange(len(class_names))+0.5, labels=class_names, va='center')\n",
        "\n",
        "plt.title('Confusion Matrix')\n",
        "plt.xlabel('Predicted Label')\n",
        "plt.ylabel('True Label')\n",
        "plt.show()\n",
        "\n"
      ],
      "metadata": {
        "colab": {
          "base_uri": "https://localhost:8080/",
          "height": 718
        },
        "id": "MB32zTULAoJ5",
        "outputId": "3841d4d5-8154-4d23-95fb-4873e48a4105"
      },
      "execution_count": null,
      "outputs": [
        {
          "output_type": "display_data",
          "data": {
            "text/plain": [
              "<Figure size 1000x800 with 1 Axes>"
            ],
            "image/png": "[encoded data removed]"
          },
          "metadata": {}
        }
      ]
    },
    {
      "cell_type": "code",
      "source": [
        "from sklearn.model_selection import GridSearchCV\n",
        "from sklearn.metrics import accuracy_score, classification_report, confusion_matrix\n",
        "import joblib\n",
        "\n",
        "# Memuat model SVM terbaik yang sudah disimpan sebelumnya\n",
        "best_svm = joblib.load('best_svm_model.pkl')\n",
        "\n",
        "# Parameter yang akan diuji\n",
        "param_grid = {\n",
        "    'C': [0.1, 1, 10, 100],\n",
        "    'gamma': ['scale', 'auto', 0.1, 1, 10],\n",
        "    'kernel': ['linear', 'poly', 'rbf', 'sigmoid']\n",
        "}\n",
        "\n",
        "# Membuat objek GridSearchCV\n",
        "grid_search = GridSearchCV(estimator=best_svm, param_grid=param_grid, cv=5, scoring='accuracy')\n",
        "\n",
        "# Melakukan grid search\n",
        "grid_search.fit(train_features, train_labels)\n",
        "\n",
        "# Menampilkan parameter terbaik\n",
        "print(\"Parameter terbaik:\", grid_search.best_params_)\n"
      ],
      "metadata": {
        "colab": {
          "base_uri": "https://localhost:8080/"
        },
        "id": "uJRixRmhKRFu",
        "outputId": "425efd4e-0cd0-4c4e-b5ab-54ebd75d8e5d"
      },
      "execution_count": null,
      "outputs": [
        {
          "output_type": "stream",
          "name": "stdout",
          "text": [
            "Parameter terbaik: {'C': 10, 'gamma': 'scale', 'kernel': 'rbf'}\n"
          ]
        }
      ]
    },
    {
      "cell_type": "code",
      "source": [
        "from sklearn.model_selection import StratifiedKFold\n",
        "from sklearn.metrics import accuracy_score, classification_report, confusion_matrix\n",
        "import joblib\n",
        "import h5py\n",
        "\n",
        "# Best parameters obtained from GridSearchCV\n",
        "best_params = {'C': 10, 'gamma': 'scale', 'kernel': 'rbf'}\n",
        "\n",
        "# Perform k-fold cross-validation\n",
        "# k = 5\n",
        "# skf = StratifiedKFold(n_splits=k, shuffle=True, random_state=42)\n",
        "# accuracies = []\n",
        "# best_accuracy = 0\n",
        "# best_model = None\n",
        "# best_confusion_matrix = None\n",
        "# best_classification_report = None\n",
        "\n",
        "# for fold, (train_index, test_index) in enumerate(skf.split(full_features, full_labels)):\n",
        "#     train_features, test_features = full_features[train_index], full_features[test_index]\n",
        "#     train_labels, test_labels = full_labels[train_index], full_labels[test_index]\n",
        "\n",
        "#     # Train SVM model with best parameters\n",
        "#     svm = SVC(**best_params)\n",
        "#     svm.fit(train_features, train_labels)\n",
        "\n",
        "#     # Evaluate model\n",
        "#     predictions = svm.predict(test_features)\n",
        "#     accuracy = accuracy_score(test_labels, predictions)\n",
        "#     accuracies.append(accuracy)\n",
        "\n",
        "#     # Print accuracy for each fold\n",
        "#     print(f'Fold {fold + 1}, Accuracy: {accuracy}')\n",
        "\n",
        "#     # Update best model if current accuracy is higher\n",
        "#     if accuracy > best_accuracy:\n",
        "#         best_accuracy = accuracy\n",
        "#         best_model = svm\n",
        "#         best_confusion_matrix = confusion_matrix(test_labels, predictions)\n",
        "#         best_classification_report = classification_report(test_labels, predictions)\n",
        "#         joblib.dump(best_model, 'best_svm_model_tuning.pkl')\n",
        "\n",
        "# # Print average accuracy and best accuracy\n",
        "# print(f'Average accuracy: {np.mean(accuracies)}, Best accuracy: {best_accuracy}')\n",
        "\n",
        "# # Print best confusion matrix and classification report\n",
        "# print(\"Best Confusion Matrix:\")\n",
        "# print(best_confusion_matrix)\n",
        "# print(\"Best Classification Report:\")\n",
        "# print(best_classification_report)\n",
        "\n",
        "k = 5  # Number of folds\n",
        "skf = StratifiedKFold(n_splits=k, shuffle=True, random_state=42)\n",
        "accuracies = []\n",
        "precisions = []\n",
        "sensitivities = []\n",
        "specificities = []\n",
        "f1_scores = []\n",
        "best_accuracy = 0\n",
        "best_model = None\n",
        "best_confusion_matrix = None\n",
        "best_classification_report = None\n",
        "\n",
        "for fold, (train_index, test_index) in enumerate(skf.split(full_features, full_labels)):\n",
        "    train_features, test_features = full_features[train_index], full_features[test_index]\n",
        "    train_labels, test_labels = full_labels[train_index], full_labels[test_index]\n",
        "\n",
        "    svm = SVC(**best_params)\n",
        "    svm.fit(train_features, train_labels)\n",
        "\n",
        "    predictions = svm.predict(test_features)\n",
        "    accuracy = accuracy_score(test_labels, predictions)\n",
        "    accuracies.append(accuracy)\n",
        "\n",
        "    precision = precision_score(test_labels, predictions, average='weighted')\n",
        "    precisions.append(precision)\n",
        "\n",
        "    recall = recall_score(test_labels, predictions, average='weighted')\n",
        "    sensitivities.append(recall)\n",
        "\n",
        "    cm = confusion_matrix(test_labels, predictions)\n",
        "    specificity = np.diag(cm) / np.sum(cm, axis=1)\n",
        "    specificity = np.mean(specificity)\n",
        "    specificities.append(specificity)\n",
        "\n",
        "    f1 = f1_score(test_labels, predictions, average='weighted')\n",
        "    f1_scores.append(f1)\n",
        "\n",
        "    print(f'Fold {fold + 1}, Accuracy: {accuracy:.4f}, Precision: {precision:.4f}, Sensitivity: {recall:.4f}, Specificity: {specificity:.4f}, F1-score: {f1:.4f}')\n",
        "\n",
        "    if accuracy > best_accuracy:\n",
        "        best_accuracy = accuracy\n",
        "        best_model = svm\n",
        "        best_confusion_matrix = cm\n",
        "        best_classification_report = classification_report(test_labels, predictions)\n",
        "        joblib.dump(best_model, 'best_svm_model_tuning.pkl')\n",
        "\n",
        "average_accuracy = np.mean(accuracies)\n",
        "average_precision = np.mean(precisions)\n",
        "average_sensitivity = np.mean(sensitivities)\n",
        "average_specificity = np.mean(specificities)\n",
        "average_f1 = np.mean(f1_scores)\n",
        "\n",
        "print(f'Average accuracy: {average_accuracy:.4f}, Best accuracy: {best_accuracy:.4f}')\n",
        "print(\"Best Confusion Matrix:\")\n",
        "print(best_confusion_matrix)\n",
        "print(\"Best Classification Report:\")\n",
        "print(best_classification_report)\n",
        "\n",
        "print(f'Average Precision: {average_precision:.4f}')\n",
        "print(f'Average Sensitivity: {average_sensitivity:.4f}')\n",
        "print(f'Average Specificity: {average_specificity:.4f}')\n",
        "print(f'Average F1-score: {average_f1:.4f}')\n",
        "\n",
        "\n"
      ],
      "metadata": {
        "colab": {
          "base_uri": "https://localhost:8080/"
        },
        "id": "W8BjdcOnfjpG",
        "outputId": "9d20eba2-62a4-4a7d-894c-432aadaf45f0"
      },
      "execution_count": null,
      "outputs": [
        {
          "output_type": "stream",
          "name": "stdout",
          "text": [
            "Fold 1, Accuracy: 0.8986, Precision: 0.8986, Sensitivity: 0.8986, Specificity: 0.8986, F1-score: 0.8986\n",
            "Fold 2, Accuracy: 0.9043, Precision: 0.9052, Sensitivity: 0.9043, Specificity: 0.9043, F1-score: 0.9046\n",
            "Fold 3, Accuracy: 0.9101, Precision: 0.9109, Sensitivity: 0.9101, Specificity: 0.9101, F1-score: 0.9098\n",
            "Fold 4, Accuracy: 0.8899, Precision: 0.8971, Sensitivity: 0.8899, Specificity: 0.8899, F1-score: 0.8901\n",
            "Fold 5, Accuracy: 0.9043, Precision: 0.9048, Sensitivity: 0.9043, Specificity: 0.9043, F1-score: 0.9045\n",
            "Average accuracy: 0.9014, Best accuracy: 0.9101\n",
            "Best Confusion Matrix:\n",
            "[[ 98  12   5]\n",
            " [  3 110   2]\n",
            " [  7   2 106]]\n",
            "Best Classification Report:\n",
            "              precision    recall  f1-score   support\n",
            "\n",
            "           0       0.91      0.85      0.88       115\n",
            "           1       0.89      0.96      0.92       115\n",
            "           2       0.94      0.92      0.93       115\n",
            "\n",
            "    accuracy                           0.91       345\n",
            "   macro avg       0.91      0.91      0.91       345\n",
            "weighted avg       0.91      0.91      0.91       345\n",
            "\n",
            "Average Precision: 0.9033\n",
            "Average Sensitivity: 0.9014\n",
            "Average Specificity: 0.9014\n",
            "Average F1-score: 0.9015\n"
          ]
        }
      ]
    },
    {
      "cell_type": "code",
      "source": [
        "# Plotting Confusion Matrix\n",
        "# plt.figure(figsize=(10, 8))\n",
        "# sns.heatmap(best_confusion_matrix, annot=True, fmt='d', cmap='Blues', cbar=False)\n",
        "# plt.title('Confusion Matrix')\n",
        "# plt.xlabel('Predicted Label')\n",
        "# plt.ylabel('True Label')\n",
        "# plt.show()\n",
        "\n",
        "# Menampilkan Confusion Matrix dengan label yang tepat\n",
        "plt.figure(figsize=(10, 8))\n",
        "sns.heatmap(best_confusion_matrix, annot=True, fmt='d', cmap='Blues', cbar=False)\n",
        "\n",
        "# Mendapatkan nama kelas dari variabel class_names\n",
        "class_names = ['mel', 'bcc', 'norm']\n",
        "\n",
        "# Menambahkan label ke sumbu x dan y\n",
        "plt.xticks(ticks=np.arange(len(class_names))+0.5, labels=class_names, ha='center')\n",
        "plt.yticks(ticks=np.arange(len(class_names))+0.5, labels=class_names, va='center')\n",
        "\n",
        "plt.title('Confusion Matrix')\n",
        "plt.xlabel('Predicted Label')\n",
        "plt.ylabel('True Label')\n",
        "plt.show()"
      ],
      "metadata": {
        "colab": {
          "base_uri": "https://localhost:8080/",
          "height": 718
        },
        "id": "9_c76B7VCxWi",
        "outputId": "ae9dd94c-df37-4843-a734-4b49a06c5a16"
      },
      "execution_count": null,
      "outputs": [
        {
          "output_type": "display_data",
          "data": {
            "text/plain": [
              "<Figure size 1000x800 with 1 Axes>"
            ],
            "image/png": "[encoded data removed]"
          },
          "metadata": {}
        }
      ]
    }
  ]
}