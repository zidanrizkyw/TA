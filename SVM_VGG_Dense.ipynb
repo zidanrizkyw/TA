{
  "nbformat": 4,
  "nbformat_minor": 0,
  "metadata": {
    "colab": {
      "provenance": [],
      "gpuType": "T4"
    },
    "kernelspec": {
      "name": "python3",
      "display_name": "Python 3"
    },
    "language_info": {
      "name": "python"
    },
    "accelerator": "GPU"
  },
  "cells": [
    {
      "cell_type": "code",
      "execution_count": null,
      "metadata": {
        "colab": {
          "base_uri": "https://localhost:8080/"
        },
        "id": "lAlaGtRvpJnP",
        "outputId": "2ce1ad63-1245-4fc9-d343-81c8145ffcb8"
      },
      "outputs": [
        {
          "output_type": "stream",
          "name": "stdout",
          "text": [
            "Mounted at /content/drive\n"
          ]
        }
      ],
      "source": [
        "from google.colab import drive\n",
        "import zipfile\n",
        "import os\n",
        "\n",
        "drive.mount('/content/drive')\n",
        "with zipfile.ZipFile('/content/drive/MyDrive/Dataset_Bersih.zip', 'r') as zip_ref:\n",
        "    zip_ref.extractall('/content/')"
      ]
    },
    {
      "cell_type": "code",
      "source": [
        "import numpy as np\n",
        "import pandas as pd\n",
        "import tensorflow as tf\n",
        "from tensorflow.keras.preprocessing import image_dataset_from_directory\n",
        "from tensorflow.keras.applications import VGG16\n",
        "from tensorflow.keras.applications import DenseNet201\n",
        "\n",
        "# Path ke direktori dataset\n",
        "dataset_dir = '/content/Dataset Bersih'\n",
        "\n",
        "# Memuat dataset dengan shuffle diatur ke True\n",
        "full_dataset = image_dataset_from_directory(dataset_dir,\n",
        "                                            labels='inferred',\n",
        "                                            label_mode='int',\n",
        "                                            image_size=(224, 224),\n",
        "                                            batch_size=32,\n",
        "                                            shuffle=True)\n",
        "\n",
        "# Memuat VGG16 pre-trained model\n",
        "vgg_model = tf.keras.applications.VGG16(input_shape=(224, 224, 3),\n",
        "                                                     include_top=False,\n",
        "                                                     weights='imagenet')\n",
        "vgg_model.trainable = True\n",
        "\n",
        "# Memuat DenseNet201 pre-trained model\n",
        "densenet_model = tf.keras.applications.DenseNet201(input_shape=(224, 224, 3),\n",
        "                                                 include_top=False,\n",
        "                                                 weights='imagenet')\n",
        "densenet_model.trainable = True\n",
        "\n",
        "# Membuat generator fitur dari dataset menggunakan VGG16\n",
        "vgg_feature_extractor = tf.keras.Sequential([\n",
        "    vgg_model,\n",
        "    tf.keras.layers.GlobalAveragePooling2D()\n",
        "])\n",
        "\n",
        "# Membuat generator fitur dari dataset menggunakan DenseNet201\n",
        "densenet_feature_extractor = tf.keras.Sequential([\n",
        "    densenet_model,\n",
        "    tf.keras.layers.GlobalAveragePooling2D()\n",
        "])\n",
        "\n",
        "# Inisialisasi list untuk menyimpan fitur dan label\n",
        "vgg_features_list = []\n",
        "densenet_features_list = []\n",
        "labels_list = []\n",
        "\n",
        "# Ekstrak fitur dari dataset menggunakan VGG16 dan DenseNet201\n",
        "for images, labels in full_dataset:\n",
        "    # Ekstraksi fitur menggunakan VGG16\n",
        "    vgg_features = vgg_feature_extractor(images)\n",
        "    vgg_features_list.append(vgg_features.numpy())\n",
        "\n",
        "    # Ekstraksi fitur menggunakan DenseNet201\n",
        "    densenet_features = densenet_feature_extractor(images)\n",
        "    densenet_features_list.append(densenet_features.numpy())\n",
        "\n",
        "    labels_list.append(labels.numpy())\n",
        "\n",
        "# Menggabungkan fitur dan label menjadi numpy arrays\n",
        "vgg_features_array = np.concatenate(vgg_features_list)\n",
        "densenet_features_array = np.concatenate(densenet_features_list)\n",
        "labels_array = np.concatenate(labels_list)\n",
        "\n",
        "# Membuat DataFrame dari fitur dan label untuk VGG16\n",
        "vgg_feature_columns = [f\"vgg_feature_{i+1}\" for i in range(vgg_features_array.shape[1])]\n",
        "vgg_df = pd.DataFrame(vgg_features_array, columns=vgg_feature_columns)\n",
        "vgg_df['label'] = labels_array\n",
        "\n",
        "# Membuat DataFrame dari fitur dan label untuk DenseNet201\n",
        "densenet_feature_columns = [f\"densenet_feature_{i+1}\" for i in range(densenet_features_array.shape[1])]\n",
        "densenet_df = pd.DataFrame(densenet_features_array, columns=densenet_feature_columns)\n",
        "densenet_df['label'] = labels_array\n",
        "\n",
        "# Tampilkan DataFrame untuk VGG16\n",
        "print(\"DataFrame untuk VGG16:\")\n",
        "print(vgg_df)\n",
        "\n",
        "\n"
      ],
      "metadata": {
        "colab": {
          "base_uri": "https://localhost:8080/"
        },
        "id": "9rAoSc0Apmiz",
        "outputId": "5fd11432-5014-4fc9-e83a-b9d9341bdd2c"
      },
      "execution_count": null,
      "outputs": [
        {
          "output_type": "stream",
          "name": "stdout",
          "text": [
            "Found 1725 files belonging to 3 classes.\n",
            "Downloading data from https://storage.googleapis.com/tensorflow/keras-applications/vgg16/vgg16_weights_tf_dim_ordering_tf_kernels_notop.h5\n",
            "58889256/58889256 [==============================] - 3s 0us/step\n",
            "Downloading data from https://storage.googleapis.com/tensorflow/keras-applications/densenet/densenet201_weights_tf_dim_ordering_tf_kernels_notop.h5\n",
            "74836368/74836368 [==============================] - 4s 0us/step\n",
            "DataFrame untuk VGG16:\n",
            "      vgg_feature_1  vgg_feature_2  vgg_feature_3  vgg_feature_4  \\\n",
            "0          0.000000       0.000000       0.538602       0.000000   \n",
            "1          0.000000       0.000000       0.000000       0.000000   \n",
            "2          0.172859       0.000000       0.000000       0.000000   \n",
            "3         13.334599       7.522898       4.913555       0.421052   \n",
            "4          0.000000       0.000000       0.000000       0.000000   \n",
            "...             ...            ...            ...            ...   \n",
            "1720       0.321075       0.888741      25.555071       0.000000   \n",
            "1721       0.481880       0.000000       1.063731       0.000000   \n",
            "1722       0.000000       0.000000       0.000000       0.000000   \n",
            "1723       0.000000       0.000000       0.126234       0.000000   \n",
            "1724       0.000000       0.000000       0.976120       0.000000   \n",
            "\n",
            "      vgg_feature_5  vgg_feature_6  vgg_feature_7  vgg_feature_8  \\\n",
            "0          1.149553       0.048490       0.037739       0.480907   \n",
            "1          0.000000       0.000000       0.291646       0.025667   \n",
            "2          0.000000       0.000000       2.223536       0.000000   \n",
            "3          0.000000       0.065965       0.300445       0.202046   \n",
            "4          0.117307       0.046289       0.000000       0.000000   \n",
            "...             ...            ...            ...            ...   \n",
            "1720       0.073163       0.000000       0.489657       0.000000   \n",
            "1721       0.948580       0.000000       3.698956       0.970248   \n",
            "1722       0.031035       0.000000       0.216717       0.000000   \n",
            "1723       0.161040       0.000000       0.000000       0.000000   \n",
            "1724       1.045660       0.000000       0.130336       0.000000   \n",
            "\n",
            "      vgg_feature_9  vgg_feature_10  ...  vgg_feature_504  vgg_feature_505  \\\n",
            "0          0.000000        0.000000  ...         0.000000         4.258059   \n",
            "1          0.000000        0.000000  ...         0.000000         1.277137   \n",
            "2          0.069343        0.000000  ...         0.000000         0.582190   \n",
            "3          7.428425        1.547448  ...         0.175451         1.864707   \n",
            "4          0.000000        0.000000  ...         0.000000         0.008822   \n",
            "...             ...             ...  ...              ...              ...   \n",
            "1720       1.842467        0.000000  ...         0.361854         0.384393   \n",
            "1721       0.000000        0.000000  ...         0.000000         6.211604   \n",
            "1722       0.000000        0.000000  ...         0.000000         0.263985   \n",
            "1723       0.000000        0.000000  ...         0.000000         1.533089   \n",
            "1724       0.000000        0.000000  ...         0.000000         0.579770   \n",
            "\n",
            "      vgg_feature_506  vgg_feature_507  vgg_feature_508  vgg_feature_509  \\\n",
            "0            0.041452         1.237392         0.189153         0.128474   \n",
            "1            1.280645         4.937319         0.096706         0.000000   \n",
            "2            0.032553         0.173146         0.151294         0.000000   \n",
            "3            0.296774         0.570534         0.733934         0.110596   \n",
            "4            0.000000         0.000000         0.447584         0.000000   \n",
            "...               ...              ...              ...              ...   \n",
            "1720         0.740779         4.484360         0.258112         0.000000   \n",
            "1721         0.222832         0.932252         2.651197         0.000000   \n",
            "1722         0.000000         2.272362         0.000000         0.000000   \n",
            "1723         1.080709         4.108893         0.000000         0.000000   \n",
            "1724         0.553156         1.490233         0.274308         0.000000   \n",
            "\n",
            "      vgg_feature_510  vgg_feature_511  vgg_feature_512  label  \n",
            "0            0.000000         5.887341              0.0      0  \n",
            "1            0.000000         2.286048              0.0      0  \n",
            "2            0.093477         3.917452              0.0      0  \n",
            "3            1.724259         3.111387              0.0      1  \n",
            "4            0.000000         4.210134              0.0      2  \n",
            "...               ...              ...              ...    ...  \n",
            "1720         0.000000         5.139600              0.0      0  \n",
            "1721         0.000000         9.408531              0.0      1  \n",
            "1722         0.000000         1.626183              0.0      1  \n",
            "1723         0.000000         3.420254              0.0      2  \n",
            "1724         0.000000         4.549598              0.0      1  \n",
            "\n",
            "[1725 rows x 513 columns]\n"
          ]
        }
      ]
    },
    {
      "cell_type": "code",
      "source": [
        "# Tampilkan DataFrame untuk DenseNet201\n",
        "print(\"\\nDataFrame untuk DenseNet201:\")\n",
        "print(densenet_df)"
      ],
      "metadata": {
        "colab": {
          "base_uri": "https://localhost:8080/"
        },
        "id": "DmYBqzFg344k",
        "outputId": "68e35604-dc46-427d-c4d5-37bdd6a4d15c"
      },
      "execution_count": null,
      "outputs": [
        {
          "output_type": "stream",
          "name": "stdout",
          "text": [
            "\n",
            "DataFrame untuk DenseNet201:\n",
            "      densenet_feature_1  densenet_feature_2  ...  densenet_feature_1920  label\n",
            "0               0.000050            0.000000  ...               0.035610      2\n",
            "1               0.000000            0.000000  ...               0.008667      0\n",
            "2               0.000012            0.000020  ...               0.030148      1\n",
            "3               0.000006            0.000000  ...               0.006546      0\n",
            "4               0.000000            0.000000  ...               0.000000      0\n",
            "...                  ...                 ...  ...                    ...    ...\n",
            "1720            0.000000            0.000008  ...               0.018941      0\n",
            "1721            0.000022            0.000000  ...               1.157611      2\n",
            "1722            0.000035            0.000000  ...               0.373772      1\n",
            "1723            0.000000            0.000000  ...               0.003230      0\n",
            "1724            0.000000            0.000000  ...               0.382061      0\n",
            "\n",
            "[1725 rows x 1921 columns]\n"
          ]
        }
      ]
    },
    {
      "cell_type": "code",
      "source": [
        "# Menggabungkan fitur dan label menjadi numpy arrays\n",
        "vgg_features_array = np.concatenate(vgg_features_list)\n",
        "densenet_features_array = np.concatenate(densenet_features_list)\n",
        "labels_array = np.concatenate(labels_list)\n",
        "\n",
        "# Gabungkan fitur dari BGG16 dan DenseNet201\n",
        "combined_features_array = np.concatenate([vgg_features_array, densenet_features_array], axis=1)\n",
        "\n",
        "# Membuat DataFrame dari fitur gabungan dan label\n",
        "combined_feature_columns = [f\"feature_{i+1}\" for i in range(combined_features_array.shape[1])]\n",
        "combined_df = pd.DataFrame(combined_features_array, columns=combined_feature_columns)\n",
        "combined_df['label'] = labels_array\n",
        "\n",
        "# Function to map label integer to class name\n",
        "def map_label(label):\n",
        "    class_names = ['mel', 'bcc', 'norm']\n",
        "    return class_names[label]\n",
        "\n",
        "# Applying map_label function to convert labels to class names\n",
        "combined_df['label'] = combined_df['label'].apply(map_label)\n",
        "\n",
        "# Displaying DataFrame with better format\n",
        "pd.set_option('display.max_columns', 10)  # Show all columns\n",
        "pd.set_option('display.max_rows', 10)  # Limit the number of rows displayed\n",
        "pd.set_option('display.float_format', lambda x: '%.4f' % x)  # Format float numbers\n",
        "\n",
        "# Tampilkan DataFrame gabungan\n",
        "print(\"DataFrame gabungan untuk MobileNetV2 dan vgg50V2:\")\n",
        "\n",
        "# Showing the first few rows of the DataFrame\n",
        "print(combined_df.head())"
      ],
      "metadata": {
        "colab": {
          "base_uri": "https://localhost:8080/"
        },
        "id": "hd-lADNG38qu",
        "outputId": "c902c780-6dd7-47e0-aff4-baab3e3b29c3"
      },
      "execution_count": null,
      "outputs": [
        {
          "output_type": "stream",
          "name": "stdout",
          "text": [
            "DataFrame gabungan untuk MobileNetV2 dan vgg50V2:\n",
            "   feature_1  feature_2  feature_3  feature_4  feature_5  ...  feature_2429  \\\n",
            "0     0.0000     0.0000     0.5386     0.0000     1.1496  ...        0.2302   \n",
            "1     0.0000     0.0000     0.0000     0.0000     0.0000  ...        0.2590   \n",
            "2     0.1729     0.0000     0.0000     0.0000     0.0000  ...        0.0021   \n",
            "3    13.3346     7.5229     4.9136     0.4211     0.0000  ...        0.1790   \n",
            "4     0.0000     0.0000     0.0000     0.0000     0.1173  ...        0.0000   \n",
            "\n",
            "   feature_2430  feature_2431  feature_2432  label  \n",
            "0        0.1442        0.5310        0.0800    mel  \n",
            "1        0.0536        1.2677        0.0618    mel  \n",
            "2        0.0000        1.7962        0.0068    mel  \n",
            "3        0.0359        0.6968        0.1802    bcc  \n",
            "4        0.2212        0.2641        0.2758   norm  \n",
            "\n",
            "[5 rows x 2433 columns]\n"
          ]
        }
      ]
    },
    {
      "cell_type": "code",
      "source": [
        "import numpy as np\n",
        "import pandas as pd\n",
        "from sklearn.model_selection import train_test_split, KFold, cross_val_score\n",
        "from sklearn.svm import SVC\n",
        "from sklearn.metrics import confusion_matrix, classification_report\n",
        "import joblib  # untuk menyimpan model\n",
        "from sklearn.metrics import confusion_matrix, classification_report\n",
        "from sklearn.metrics import accuracy_score, precision_score, recall_score, f1_score, confusion_matrix, classification_report\n",
        "from sklearn.model_selection import StratifiedKFold\n",
        "\n",
        "k = 5  # Number of folds\n",
        "skf = StratifiedKFold(n_splits=k, shuffle=True, random_state=42)\n",
        "accuracies = []\n",
        "precisions = []\n",
        "sensitivities = []\n",
        "specificities = []\n",
        "f1_scores = []\n",
        "best_accuracy = 0\n",
        "best_model = None\n",
        "best_confusion_matrix = None\n",
        "best_classification_report = None\n",
        "\n",
        "for fold, (train_index, test_index) in enumerate(skf.split(combined_features_array, labels_array)):\n",
        "    train_features, test_features = combined_features_array[train_index], combined_features_array[test_index]\n",
        "    train_labels, test_labels = labels_array[train_index], labels_array[test_index]\n",
        "\n",
        "    svm = SVC()\n",
        "    svm.fit(train_features, train_labels)\n",
        "\n",
        "    predictions = svm.predict(test_features)\n",
        "    accuracy = accuracy_score(test_labels, predictions)\n",
        "    accuracies.append(accuracy)\n",
        "\n",
        "    precision = precision_score(test_labels, predictions, average='weighted')\n",
        "    precisions.append(precision)\n",
        "\n",
        "    recall = recall_score(test_labels, predictions, average='weighted')\n",
        "    sensitivities.append(recall)\n",
        "\n",
        "    cm = confusion_matrix(test_labels, predictions)\n",
        "    specificity = np.diag(cm) / np.sum(cm, axis=1)\n",
        "    specificity = np.mean(specificity)\n",
        "    specificities.append(specificity)\n",
        "\n",
        "    f1 = f1_score(test_labels, predictions, average='weighted')\n",
        "    f1_scores.append(f1)\n",
        "\n",
        "    print(f'Fold {fold + 1}, Accuracy: {accuracy:.4f}, Precision: {precision:.4f}, Sensitivity: {recall:.4f}, Specificity: {specificity:.4f}, F1-score: {f1:.4f}')\n",
        "\n",
        "    if accuracy > best_accuracy:\n",
        "        best_accuracy = accuracy\n",
        "        best_model = svm\n",
        "        best_confusion_matrix = cm\n",
        "        best_classification_report = classification_report(test_labels, predictions)\n",
        "        joblib.dump(best_model, 'best_svm_model.pkl')\n",
        "\n",
        "average_accuracy = np.mean(accuracies)\n",
        "average_precision = np.mean(precisions)\n",
        "average_sensitivity = np.mean(sensitivities)\n",
        "average_specificity = np.mean(specificities)\n",
        "average_f1 = np.mean(f1_scores)\n",
        "\n",
        "print(f'Average accuracy: {average_accuracy:.4f}, Best accuracy: {best_accuracy:.4f}')\n",
        "print(\"Best Confusion Matrix:\")\n",
        "print(best_confusion_matrix)\n",
        "print(\"Best Classification Report:\")\n",
        "print(best_classification_report)\n",
        "\n",
        "print(f'Average Precision: {average_precision:.4f}')\n",
        "print(f'Average Sensitivity: {average_sensitivity:.4f}')\n",
        "print(f'Average Specificity: {average_specificity:.4f}')\n",
        "print(f'Average F1-score: {average_f1:.4f}')"
      ],
      "metadata": {
        "colab": {
          "base_uri": "https://localhost:8080/"
        },
        "id": "AZmDHviR4SLa",
        "outputId": "24cc226f-a990-42d0-d8c7-b20f0e8927ac"
      },
      "execution_count": null,
      "outputs": [
        {
          "output_type": "stream",
          "name": "stdout",
          "text": [
            "Fold 1, Accuracy: 0.8319, Precision: 0.8356, Sensitivity: 0.8319, Specificity: 0.8319, F1-score: 0.8322\n",
            "Fold 2, Accuracy: 0.8522, Precision: 0.8580, Sensitivity: 0.8522, Specificity: 0.8522, F1-score: 0.8532\n",
            "Fold 3, Accuracy: 0.8754, Precision: 0.8772, Sensitivity: 0.8754, Specificity: 0.8754, F1-score: 0.8755\n",
            "Fold 4, Accuracy: 0.8609, Precision: 0.8634, Sensitivity: 0.8609, Specificity: 0.8609, F1-score: 0.8617\n",
            "Fold 5, Accuracy: 0.8493, Precision: 0.8549, Sensitivity: 0.8493, Specificity: 0.8493, F1-score: 0.8500\n",
            "Average accuracy: 0.8539, Best accuracy: 0.8754\n",
            "Best Confusion Matrix:\n",
            "[[102   8   5]\n",
            " [  8 103   4]\n",
            " [ 12   6  97]]\n",
            "Best Classification Report:\n",
            "              precision    recall  f1-score   support\n",
            "\n",
            "           0       0.84      0.89      0.86       115\n",
            "           1       0.88      0.90      0.89       115\n",
            "           2       0.92      0.84      0.88       115\n",
            "\n",
            "    accuracy                           0.88       345\n",
            "   macro avg       0.88      0.88      0.88       345\n",
            "weighted avg       0.88      0.88      0.88       345\n",
            "\n",
            "Average Precision: 0.8578\n",
            "Average Sensitivity: 0.8539\n",
            "Average Specificity: 0.8539\n",
            "Average F1-score: 0.8545\n"
          ]
        }
      ]
    },
    {
      "cell_type": "code",
      "source": [
        "import seaborn as sns\n",
        "import matplotlib.pyplot as plt\n",
        "\n",
        "# Plotting Confusion Matrix\n",
        "# plt.figure(figsize=(10, 8))\n",
        "# sns.heatmap(best_confusion_matrix, annot=True, fmt='d', cmap='Blues', cbar=False)\n",
        "# plt.title('Confusion Matrix')\n",
        "# plt.xlabel('Predicted Label')\n",
        "# plt.ylabel('True Label')\n",
        "# plt.show()\n",
        "\n",
        "# Menampilkan Confusion Matrix dengan label yang tepat\n",
        "plt.figure(figsize=(10, 8))\n",
        "sns.heatmap(best_confusion_matrix, annot=True, fmt='d', cmap='Blues', cbar=False)\n",
        "\n",
        "# Mendapatkan nama kelas dari variabel class_names\n",
        "class_names = ['mel', 'bcc', 'norm']\n",
        "\n",
        "# Menambahkan label ke sumbu x dan y\n",
        "plt.xticks(ticks=np.arange(len(class_names))+0.5, labels=class_names, ha='center')\n",
        "plt.yticks(ticks=np.arange(len(class_names))+0.5, labels=class_names, va='center')\n",
        "\n",
        "plt.title('Confusion Matrix')\n",
        "plt.xlabel('Predicted Label')\n",
        "plt.ylabel('True Label')\n",
        "plt.show()\n",
        "\n"
      ],
      "metadata": {
        "colab": {
          "base_uri": "https://localhost:8080/",
          "height": 718
        },
        "id": "8IYdWC44eOav",
        "outputId": "e9d20789-a3dd-4a70-8d26-a210376283e1"
      },
      "execution_count": null,
      "outputs": [
        {
          "output_type": "display_data",
          "data": {
            "text/plain": [
              "<Figure size 1000x800 with 1 Axes>"
            ],
            "image/png": "[encoded data removed]"
          },
          "metadata": {}
        }
      ]
    },
    {
      "cell_type": "code",
      "source": [
        "from sklearn.model_selection import GridSearchCV\n",
        "from sklearn.metrics import accuracy_score, classification_report, confusion_matrix\n",
        "import joblib\n",
        "\n",
        "# Memuat model SVM terbaik yang sudah disimpan sebelumnya\n",
        "best_svm = joblib.load('best_svm_model.pkl')\n",
        "\n",
        "# Parameter yang akan diuji\n",
        "param_grid = {\n",
        "    'C': [0.1, 1, 10, 100],\n",
        "    'gamma': ['scale', 'auto', 0.1, 1, 10],\n",
        "    'kernel': ['linear', 'poly', 'rbf', 'sigmoid']\n",
        "}\n",
        "\n",
        "# Membuat objek GridSearchCV\n",
        "grid_search = GridSearchCV(estimator=best_svm, param_grid=param_grid, cv=5, scoring='accuracy')\n",
        "\n",
        "# Melakukan grid search\n",
        "grid_search.fit(train_features, train_labels)\n",
        "\n",
        "# Menampilkan parameter terbaik\n",
        "print(\"Parameter terbaik:\", grid_search.best_params_)"
      ],
      "metadata": {
        "colab": {
          "base_uri": "https://localhost:8080/"
        },
        "id": "_Z-Z6hKr4naJ",
        "outputId": "4ba46d67-b17b-4b6b-f83d-eda5ebe661c4"
      },
      "execution_count": null,
      "outputs": [
        {
          "output_type": "stream",
          "name": "stdout",
          "text": [
            "Parameter terbaik: {'C': 10, 'gamma': 'scale', 'kernel': 'rbf'}\n"
          ]
        }
      ]
    },
    {
      "cell_type": "code",
      "source": [
        "import numpy as np\n",
        "import pandas as pd\n",
        "from sklearn.model_selection import train_test_split, KFold, GridSearchCV\n",
        "from sklearn.svm import SVC\n",
        "from sklearn.metrics import confusion_matrix, classification_report, accuracy_score\n",
        "import joblib\n",
        "\n",
        "# Best parameters obtained from GridSearchCV\n",
        "best_params = {'C': 10, 'gamma': 'scale', 'kernel': 'rbf'}\n",
        "\n",
        "k = 5  # Number of folds\n",
        "skf = StratifiedKFold(n_splits=k, shuffle=True, random_state=42)\n",
        "accuracies = []\n",
        "precisions = []\n",
        "sensitivities = []\n",
        "specificities = []\n",
        "f1_scores = []\n",
        "best_accuracy = 0\n",
        "best_model = None\n",
        "best_confusion_matrix = None\n",
        "best_classification_report = None\n",
        "\n",
        "for fold, (train_index, test_index) in enumerate(skf.split(combined_features_array, labels_array)):\n",
        "    train_features, test_features = combined_features_array[train_index], combined_features_array[test_index]\n",
        "    train_labels, test_labels = labels_array[train_index], labels_array[test_index]\n",
        "\n",
        "    svm = SVC(**best_params)\n",
        "    svm.fit(train_features, train_labels)\n",
        "\n",
        "    predictions = svm.predict(test_features)\n",
        "    accuracy = accuracy_score(test_labels, predictions)\n",
        "    accuracies.append(accuracy)\n",
        "\n",
        "    precision = precision_score(test_labels, predictions, average='weighted')\n",
        "    precisions.append(precision)\n",
        "\n",
        "    recall = recall_score(test_labels, predictions, average='weighted')\n",
        "    sensitivities.append(recall)\n",
        "\n",
        "    cm = confusion_matrix(test_labels, predictions)\n",
        "    specificity = np.diag(cm) / np.sum(cm, axis=1)\n",
        "    specificity = np.mean(specificity)\n",
        "    specificities.append(specificity)\n",
        "\n",
        "    f1 = f1_score(test_labels, predictions, average='weighted')\n",
        "    f1_scores.append(f1)\n",
        "\n",
        "    print(f'Fold {fold + 1}, Accuracy: {accuracy:.4f}, Precision: {precision:.4f}, Sensitivity: {recall:.4f}, Specificity: {specificity:.4f}, F1-score: {f1:.4f}')\n",
        "\n",
        "    if accuracy > best_accuracy:\n",
        "        best_accuracy = accuracy\n",
        "        best_model = svm\n",
        "        best_confusion_matrix = cm\n",
        "        best_classification_report = classification_report(test_labels, predictions)\n",
        "        joblib.dump(best_model, 'best_svm_model_tuning.pkl')\n",
        "\n",
        "average_accuracy = np.mean(accuracies)\n",
        "average_precision = np.mean(precisions)\n",
        "average_sensitivity = np.mean(sensitivities)\n",
        "average_specificity = np.mean(specificities)\n",
        "average_f1 = np.mean(f1_scores)\n",
        "\n",
        "print(f'Average accuracy: {average_accuracy:.4f}, Best accuracy: {best_accuracy:.4f}')\n",
        "print(\"Best Confusion Matrix:\")\n",
        "print(best_confusion_matrix)\n",
        "print(\"Best Classification Report:\")\n",
        "print(best_classification_report)\n",
        "\n",
        "print(f'Average Precision: {average_precision:.4f}')\n",
        "print(f'Average Sensitivity: {average_sensitivity:.4f}')\n",
        "print(f'Average Specificity: {average_specificity:.4f}')\n",
        "print(f'Average F1-score: {average_f1:.4f}')"
      ],
      "metadata": {
        "colab": {
          "base_uri": "https://localhost:8080/"
        },
        "id": "mJ1yawlEH6_P",
        "outputId": "84a3c3e6-dd8d-433d-8606-2d26ae5ddafb"
      },
      "execution_count": null,
      "outputs": [
        {
          "output_type": "stream",
          "name": "stdout",
          "text": [
            "Fold 1, Accuracy: 0.8609, Precision: 0.8620, Sensitivity: 0.8609, Specificity: 0.8609, F1-score: 0.8604\n",
            "Fold 2, Accuracy: 0.8783, Precision: 0.8815, Sensitivity: 0.8783, Specificity: 0.8783, F1-score: 0.8787\n",
            "Fold 3, Accuracy: 0.8841, Precision: 0.8841, Sensitivity: 0.8841, Specificity: 0.8841, F1-score: 0.8839\n",
            "Fold 4, Accuracy: 0.9159, Precision: 0.9165, Sensitivity: 0.9159, Specificity: 0.9159, F1-score: 0.9161\n",
            "Fold 5, Accuracy: 0.8870, Precision: 0.8886, Sensitivity: 0.8870, Specificity: 0.8870, F1-score: 0.8870\n",
            "Average accuracy: 0.8852, Best accuracy: 0.9159\n",
            "Best Confusion Matrix:\n",
            "[[106   6   3]\n",
            " [  7 105   3]\n",
            " [  5   5 105]]\n",
            "Best Classification Report:\n",
            "              precision    recall  f1-score   support\n",
            "\n",
            "           0       0.90      0.92      0.91       115\n",
            "           1       0.91      0.91      0.91       115\n",
            "           2       0.95      0.91      0.93       115\n",
            "\n",
            "    accuracy                           0.92       345\n",
            "   macro avg       0.92      0.92      0.92       345\n",
            "weighted avg       0.92      0.92      0.92       345\n",
            "\n",
            "Average Precision: 0.8865\n",
            "Average Sensitivity: 0.8852\n",
            "Average Specificity: 0.8852\n",
            "Average F1-score: 0.8852\n"
          ]
        }
      ]
    },
    {
      "cell_type": "code",
      "source": [
        "# Menampilkan Confusion Matrix dengan label yang tepat\n",
        "plt.figure(figsize=(10, 8))\n",
        "sns.heatmap(best_confusion_matrix, annot=True, fmt='d', cmap='Blues', cbar=False)\n",
        "\n",
        "# Mendapatkan nama kelas dari variabel class_names\n",
        "class_names = ['mel', 'bcc', 'norm']\n",
        "\n",
        "# Menambahkan label ke sumbu x dan y\n",
        "plt.xticks(ticks=np.arange(len(class_names))+0.5, labels=class_names, ha='center')\n",
        "plt.yticks(ticks=np.arange(len(class_names))+0.5, labels=class_names, va='center')\n",
        "\n",
        "plt.title('Confusion Matrix')\n",
        "plt.xlabel('Predicted Label')\n",
        "plt.ylabel('True Label')\n",
        "plt.show()"
      ],
      "metadata": {
        "id": "UXyMY91nIFFl",
        "outputId": "63da1f27-047e-44b4-bf2e-720a7ac2e654",
        "colab": {
          "base_uri": "https://localhost:8080/",
          "height": 718
        }
      },
      "execution_count": null,
      "outputs": [
        {
          "output_type": "display_data",
          "data": {
            "text/plain": [
              "<Figure size 1000x800 with 1 Axes>"
            ],
            "image/png": "[encoded data removed]"
          },
          "metadata": {}
        }
      ]
    }
  ]
}